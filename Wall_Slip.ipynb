{
 "cells": [
  {
   "cell_type": "code",
   "execution_count": 15,
   "metadata": {},
   "outputs": [],
   "source": [
    "import torch\n",
    "from botorch.models import SingleTaskGP\n",
    "from botorch.fit import fit_gpytorch_mll\n",
    "from botorch.models.transforms.outcome import Standardize\n",
    "from botorch.models.transforms.input import Normalize\n",
    "from gpytorch.mlls import ExactMarginalLogLikelihood\n",
    "from botorch.acquisition.analytic import LogExpectedImprovement\n",
    "from botorch.optim import optimize_acqf\n",
    "from gpytorch.likelihoods import GaussianLikelihood\n",
    "import gpytorch\n",
    "import win32com.client\n",
    "from botorch.models.transforms import Normalize\n",
    "import xml.etree.ElementTree as ET\n",
    "import numpy as np\n",
    "import matplotlib.pyplot as plt\n",
    "from scipy.interpolate import interp1d\n",
    "from sklearn.metrics import mean_absolute_error\n",
    "torch.set_default_dtype(torch.float64)\n",
    "from scipy.stats import qmc\n",
    "import os\n",
    "import subprocess\n",
    "from pathlib import Path\n",
    "import time\n"
   ]
  },
  {
   "cell_type": "code",
   "execution_count": 16,
   "metadata": {},
   "outputs": [
    {
     "data": {
      "image/png": "[encoded data removed]",
      "text/plain": [
       "<Figure size 640x480 with 1 Axes>"
      ]
     },
     "metadata": {},
     "output_type": "display_data"
    }
   ],
   "source": [
    "# Generating inital values for Wall slip parameters\n",
    "\n",
    "#tau_w_range = [0.001, 1] \n",
    "#m_range = [0.5, 2]\n",
    "\n",
    "lower= [0.001, 0.5]\n",
    "upper = [1, 2]\n",
    "\n",
    "sampler = qmc.LatinHypercube(d=2)\n",
    "sample = sampler.random(5)\n",
    "\n",
    "scaled_values = qmc.scale(sample, lower, upper)\n",
    "tau_w_values = scaled_values[:,0]\n",
    "m_values = scaled_values[:,1]\n",
    "plt.scatter(tau_w_values, m_values)\n",
    "plt.show()\n"
   ]
  },
  {
   "cell_type": "code",
   "execution_count": 17,
   "metadata": {},
   "outputs": [],
   "source": [
    "def calculate_area_between_curves(real_time, real_disp, guess_time, guess_disp):\n",
    "    guess_disp_interpolated = np.interp(real_time, guess_time, guess_disp)\n",
    "    diff_disp = np.abs(real_disp - guess_disp_interpolated)\n",
    "    area = np.trapezoid(diff_disp, real_time)\n",
    "    return area\n",
    "            \n",
    "file_directory = Path(\"H:\\\\XMLFiles\")\n",
    "real_data_directory = \"H:\\\\Real_data\\\\press_displacement_real.xml\"\n",
    "areas = []\n",
    "\n",
    "real_tree = ET.parse(real_data_directory)\n",
    "real_root = real_tree.getroot()\n",
    "real_data = []\n",
    "guess_data = []\n",
    "\n",
    "for time_block, dept_block in zip(real_root.findall('.//Block//IndpVar'), real_root.findall('.//Block')):\n",
    "    time_value = time_block.attrib.get('Value')\n",
    "    dept_value = dept_block.find('DeptValues').text.strip()\n",
    "    real_data.append((time_value, dept_value))\n",
    "\n",
    "real_data_array = np.array([(float(x), float(y)) for x, y in real_data])\n",
    "real_time = real_data_array[:, 0]  \n",
    "real_disp = real_data_array[:, 1]  \n",
    "\n",
    "\n"
   ]
  },
  {
   "cell_type": "code",
   "execution_count": 18,
   "metadata": {},
   "outputs": [
    {
     "name": "stdout",
     "output_type": "stream",
     "text": [
      "Simulation 1 with tau_w : 0.5333207064358823 and m: 1.7359552842193344\n",
      "[np.float64(61.415633504401875)]\n",
      "Simulation 2 with tau_w : 0.29833317865981956 and m: 0.9883259473600323\n",
      "[np.float64(61.415633504401875), np.float64(61.416533504401876)]\n",
      "Simulation 3 with tau_w : 0.7583970823333832 and m: 1.328823527592085\n",
      "[np.float64(61.415633504401875), np.float64(61.416533504401876), np.float64(61.414133504401875)]\n",
      "Simulation 4 with tau_w : 0.8843440230152895 and m: 0.5741514131289563\n",
      "[np.float64(61.415633504401875), np.float64(61.416533504401876), np.float64(61.414133504401875), np.float64(61.415633504401875)]\n",
      "Simulation 5 with tau_w : 0.13922768352502424 and m: 1.6578652222787982\n",
      "[np.float64(61.415633504401875), np.float64(61.416533504401876), np.float64(61.414133504401875), np.float64(61.415633504401875), np.float64(61.419733504401876)]\n"
     ]
    }
   ],
   "source": [
    "Synergy = win32com.client.Dispatch(\"synergy.Synergy\")\n",
    "Synergy.SetUnits(\"Metric\")\n",
    "moldflow = \"C:\\\\Program Files\\\\Autodesk\\\\Moldflow Insight 2023\\\\bin\"\n",
    "area_data = []\n",
    "\n",
    "Synergy.OpenProject(\"H:\\\\Moldflow_Projects\\\\wall_slip\\\\wall_slip.mpi\")\n",
    "Project = Synergy.Project\n",
    "Project.OpenItemByName(\"60SurfaceCoverage_study\", \"Study\")\n",
    "\n",
    "# Simulation loop for wall slip parameters\n",
    "for i in range(5):\n",
    "    tau_w = tau_w_values[i]\n",
    "    m = m_values[i]\n",
    "    print(f\"Simulation {i+1} with tau_w : {tau_w} and m: {m}\")\n",
    "\n",
    "    study_name =f\"study_{i+1}\"\n",
    "    Project = Synergy.Project\n",
    "    \n",
    "    PropEd = Synergy.PropertyEditor\n",
    "    Prop = PropEd.FindProperty(10090, 1)\n",
    "    DVec = Synergy.CreateDoubleArray\n",
    "    \n",
    "    DVec.AddDouble(tau_w)\n",
    "    DVec.AddDouble(m)\n",
    "    DVec.AddDouble(1e-08)\n",
    "    DVec.AddDouble(0)\n",
    "    DVec.AddDouble(0)\n",
    "    \n",
    "    Prop.FieldValues(51182, DVec)\n",
    "          \n",
    "    PropEd.CommitChanges(\"Process Conditions\")\n",
    "\n",
    "    StudyDoc = Synergy.StudyDoc\n",
    "    StudyDoc.SaveAs(study_name)\n",
    "\n",
    "    p = subprocess.Popen(\n",
    "    [os.path.join(moldflow, \"runstudy.exe\"), f\"H:\\\\Moldflow_Projects\\\\wall_slip\\\\study_{i+1}.sdy\"],\n",
    "    stdout=subprocess.PIPE,\n",
    "    stderr=subprocess.STDOUT,\n",
    "    )\n",
    "    (output, err) = p.communicate()\n",
    "    \n",
    "\n",
    "    time.sleep(10)\n",
    "    \n",
    "    # Restart of the Synergy to prevent XML saving crash\n",
    "    \n",
    "    subprocess.run([\"taskkill\", \"/f\", \"/im\", \"airsyn_synergy.exe\"]) \n",
    "\n",
    "    time.sleep(10)\n",
    "\n",
    "    Synergy.OpenProject(\"H:\\\\Moldflow_Projects\\\\wall_slip\\\\wall_slip.mpi\")\n",
    "    Project = Synergy.Project\n",
    "    Project.OpenItemByName(f\"study_{i+1}\", \"Study\")\n",
    "\n",
    "\n",
    "\n",
    "    \n",
    "\n",
    "    PlotMgr = Synergy.PlotManager\n",
    "    time.sleep(10)\n",
    "    Plot = PlotMgr.FindPlotByName2(\"Press displacement:XY Plot\", \"Press displacement\")\n",
    "    Pid = Plot.GetDataID\n",
    "    PlotMgr = None\n",
    "    PlotMgr = Synergy.PlotManager\n",
    "    time.sleep(10)\n",
    "    PlotMgr.SaveResultDataInXML2( Pid, f\"H:\\\\XMLFiles\\\\study_{i + 1}.xml\", \"Metric\")\n",
    "    guess_tree = ET.parse(f\"H:\\\\XMLFiles\\\\study_{i + 1}.xml\")\n",
    "    guess_root = guess_tree.getroot()\n",
    "    \n",
    "    \n",
    "        \n",
    "    for time_block, dept_block in zip(guess_root.findall('.//Block//IndpVar'), guess_root.findall('.//Block')):\n",
    "            time_value = time_block.attrib.get('Value')\n",
    "            dept_value = dept_block.find('DeptValues').text.strip()\n",
    "            guess_data.append((time_value, dept_value))\n",
    "\n",
    "        \n",
    "    guess_data_array = np.array([(float(x), float(y)) for x, y in guess_data])\n",
    "    guess_time = guess_data_array[:, 0]  \n",
    "    guess_disp = guess_data_array[:, 1]  \n",
    "    \n",
    "    \n",
    "    area = calculate_area_between_curves(real_time, real_disp, guess_time, guess_disp)\n",
    "    area_data.append(area)\n",
    "    print(area_data)\n",
    "\n",
    "    \n",
    "# Write the output to a log file\n",
    "    with open(f\"H:\\\\Log_Files\\\\study_{i+1}.log\", \"w\") as file:\n",
    "        file.write(output.decode(\"windows-1252\").strip())"
   ]
  },
  {
   "cell_type": "code",
   "execution_count": null,
   "metadata": {},
   "outputs": [
    {
     "name": "stdout",
     "output_type": "stream",
     "text": [
      "Iteration 1: Suggested new parameters (tau_w, m) tensor([[0.8937, 1.8990]])\n",
      "[np.float64(61.41633350440188)]\n"
     ]
    },
    {
     "name": "stderr",
     "output_type": "stream",
     "text": [
      "c:\\Users\\sozenosk\\AppData\\Local\\miniforge3\\Lib\\site-packages\\botorch\\models\\utils\\assorted.py:265: InputDataWarning: Data (input features) is not contained to the unit cube. Please consider min-max scaling the input data.\n",
      "  check_min_max_scaling(\n",
      "c:\\Users\\sozenosk\\AppData\\Local\\miniforge3\\Lib\\site-packages\\botorch\\models\\utils\\assorted.py:268: InputDataWarning: Data (outcome observations) is not standardized (std = tensor([0.8944]), mean = tensor([2.8374e-12])).Please consider scaling the input to zero mean and unit variance.\n",
      "  check_standardization(Y=train_Y, raise_on_fail=raise_on_fail)\n"
     ]
    },
    {
     "name": "stdout",
     "output_type": "stream",
     "text": [
      "Iteration 2: Suggested new parameters (tau_w, m) tensor([[0.6416, 1.0292]])\n",
      "[np.float64(61.41633350440188), np.float64(61.413733504401876)]\n",
      "Iteration 3: Suggested new parameters (tau_w, m) tensor([[0.0010, 0.5000]])\n"
     ]
    },
    {
     "name": "stderr",
     "output_type": "stream",
     "text": [
      "c:\\Users\\sozenosk\\AppData\\Local\\miniforge3\\Lib\\site-packages\\botorch\\models\\utils\\assorted.py:268: InputDataWarning: Data (outcome observations) is not standardized (std = tensor([0.9426]), mean = tensor([-0.1780])).Please consider scaling the input to zero mean and unit variance.\n",
      "  check_standardization(Y=train_Y, raise_on_fail=raise_on_fail)\n"
     ]
    },
    {
     "name": "stdout",
     "output_type": "stream",
     "text": [
      "[np.float64(61.41633350440188), np.float64(61.413733504401876), np.float64(61.40183350440188)]\n",
      "Iteration 4: Suggested new parameters (tau_w, m) tensor([[0.0010, 0.5000]])\n"
     ]
    },
    {
     "name": "stderr",
     "output_type": "stream",
     "text": [
      "c:\\Users\\sozenosk\\AppData\\Local\\miniforge3\\Lib\\site-packages\\botorch\\models\\utils\\assorted.py:265: InputDataWarning: Data (input features) is not contained to the unit cube. Please consider min-max scaling the input data.\n",
      "  check_min_max_scaling(\n",
      "c:\\Users\\sozenosk\\AppData\\Local\\miniforge3\\Lib\\site-packages\\botorch\\models\\utils\\assorted.py:268: InputDataWarning: Data (outcome observations) is not standardized (std = tensor([2.5477]), mean = tensor([-1.0243])).Please consider scaling the input to zero mean and unit variance.\n",
      "  check_standardization(Y=train_Y, raise_on_fail=raise_on_fail)\n"
     ]
    },
    {
     "name": "stdout",
     "output_type": "stream",
     "text": [
      "[np.float64(61.41633350440188), np.float64(61.413733504401876), np.float64(61.40183350440188), np.float64(61.40183350440188)]\n",
      "Iteration 5: Suggested new parameters (tau_w, m) tensor([[0.0010, 0.5000]])\n"
     ]
    },
    {
     "name": "stderr",
     "output_type": "stream",
     "text": [
      "c:\\Users\\sozenosk\\AppData\\Local\\miniforge3\\Lib\\site-packages\\botorch\\models\\utils\\assorted.py:268: InputDataWarning: Data (outcome observations) is not standardized (std = tensor([3.0950]), mean = tensor([-1.6825])).Please consider scaling the input to zero mean and unit variance.\n",
      "  check_standardization(Y=train_Y, raise_on_fail=raise_on_fail)\n"
     ]
    },
    {
     "name": "stdout",
     "output_type": "stream",
     "text": [
      "[np.float64(61.41633350440188), np.float64(61.413733504401876), np.float64(61.40183350440188), np.float64(61.40183350440188), np.float64(61.40183350440188)]\n",
      "Iteration 6: Suggested new parameters (tau_w, m) tensor([[0.0010, 0.5000]])\n"
     ]
    },
    {
     "name": "stderr",
     "output_type": "stream",
     "text": [
      "c:\\Users\\sozenosk\\AppData\\Local\\miniforge3\\Lib\\site-packages\\botorch\\models\\utils\\assorted.py:268: InputDataWarning: Data (outcome observations) is not standardized (std = tensor([3.3597]), mean = tensor([-2.2091])).Please consider scaling the input to zero mean and unit variance.\n",
      "  check_standardization(Y=train_Y, raise_on_fail=raise_on_fail)\n"
     ]
    },
    {
     "name": "stdout",
     "output_type": "stream",
     "text": [
      "[np.float64(61.41633350440188), np.float64(61.413733504401876), np.float64(61.40183350440188), np.float64(61.40183350440188), np.float64(61.40183350440188), np.float64(61.40183350440188)]\n",
      "Iteration 7: Suggested new parameters (tau_w, m) tensor([[0.0010, 0.5000]])\n"
     ]
    },
    {
     "name": "stderr",
     "output_type": "stream",
     "text": [
      "c:\\Users\\sozenosk\\AppData\\Local\\miniforge3\\Lib\\site-packages\\botorch\\models\\utils\\assorted.py:268: InputDataWarning: Data (outcome observations) is not standardized (std = tensor([3.4929]), mean = tensor([-2.6399])).Please consider scaling the input to zero mean and unit variance.\n",
      "  check_standardization(Y=train_Y, raise_on_fail=raise_on_fail)\n"
     ]
    },
    {
     "name": "stdout",
     "output_type": "stream",
     "text": [
      "[np.float64(61.41633350440188), np.float64(61.413733504401876), np.float64(61.40183350440188), np.float64(61.40183350440188), np.float64(61.40183350440188), np.float64(61.40183350440188), np.float64(61.40183350440188)]\n",
      "Iteration 8: Suggested new parameters (tau_w, m) tensor([[0.0010, 0.5000]])\n"
     ]
    },
    {
     "name": "stderr",
     "output_type": "stream",
     "text": [
      "c:\\Users\\sozenosk\\AppData\\Local\\miniforge3\\Lib\\site-packages\\botorch\\models\\utils\\assorted.py:268: InputDataWarning: Data (outcome observations) is not standardized (std = tensor([3.5550]), mean = tensor([-2.9989])).Please consider scaling the input to zero mean and unit variance.\n",
      "  check_standardization(Y=train_Y, raise_on_fail=raise_on_fail)\n"
     ]
    },
    {
     "name": "stdout",
     "output_type": "stream",
     "text": [
      "[np.float64(61.41633350440188), np.float64(61.413733504401876), np.float64(61.40183350440188), np.float64(61.40183350440188), np.float64(61.40183350440188), np.float64(61.40183350440188), np.float64(61.40183350440188), np.float64(61.40183350440188)]\n",
      "Iteration 9: Suggested new parameters (tau_w, m) tensor([[0.0010, 0.5000]])\n"
     ]
    },
    {
     "name": "stderr",
     "output_type": "stream",
     "text": [
      "c:\\Users\\sozenosk\\AppData\\Local\\miniforge3\\Lib\\site-packages\\botorch\\models\\utils\\assorted.py:268: InputDataWarning: Data (outcome observations) is not standardized (std = tensor([3.5756]), mean = tensor([-3.3027])).Please consider scaling the input to zero mean and unit variance.\n",
      "  check_standardization(Y=train_Y, raise_on_fail=raise_on_fail)\n"
     ]
    },
    {
     "name": "stdout",
     "output_type": "stream",
     "text": [
      "[np.float64(61.41633350440188), np.float64(61.413733504401876), np.float64(61.40183350440188), np.float64(61.40183350440188), np.float64(61.40183350440188), np.float64(61.40183350440188), np.float64(61.40183350440188), np.float64(61.40183350440188), np.float64(61.40183350440188)]\n"
     ]
    },
    {
     "name": "stderr",
     "output_type": "stream",
     "text": [
      "c:\\Users\\sozenosk\\AppData\\Local\\miniforge3\\Lib\\site-packages\\botorch\\models\\utils\\assorted.py:268: InputDataWarning: Data (outcome observations) is not standardized (std = tensor([3.5708]), mean = tensor([-3.5631])).Please consider scaling the input to zero mean and unit variance.\n",
      "  check_standardization(Y=train_Y, raise_on_fail=raise_on_fail)\n"
     ]
    },
    {
     "name": "stdout",
     "output_type": "stream",
     "text": [
      "Iteration 10: Suggested new parameters (tau_w, m) tensor([[0.0010, 0.5000]])\n",
      "[np.float64(61.41633350440188), np.float64(61.413733504401876), np.float64(61.40183350440188), np.float64(61.40183350440188), np.float64(61.40183350440188), np.float64(61.40183350440188), np.float64(61.40183350440188), np.float64(61.40183350440188), np.float64(61.40183350440188), np.float64(61.40183350440188)]\n",
      "Iteration 11: Suggested new parameters (tau_w, m) tensor([[0.0010, 0.5000]])\n"
     ]
    },
    {
     "name": "stderr",
     "output_type": "stream",
     "text": [
      "c:\\Users\\sozenosk\\AppData\\Local\\miniforge3\\Lib\\site-packages\\botorch\\models\\utils\\assorted.py:268: InputDataWarning: Data (outcome observations) is not standardized (std = tensor([3.5502]), mean = tensor([-3.7888])).Please consider scaling the input to zero mean and unit variance.\n",
      "  check_standardization(Y=train_Y, raise_on_fail=raise_on_fail)\n"
     ]
    },
    {
     "ename": "com_error",
     "evalue": "(-2147023174, 'Der RPC-Server ist nicht verfügbar.', None, None)",
     "output_type": "error",
     "traceback": [
      "\u001b[1;31m---------------------------------------------------------------------------\u001b[0m",
      "\u001b[1;31mcom_error\u001b[0m                                 Traceback (most recent call last)",
      "Cell \u001b[1;32mIn[19], line 72\u001b[0m\n\u001b[0;32m     68\u001b[0m subprocess\u001b[38;5;241m.\u001b[39mrun([\u001b[38;5;124m\"\u001b[39m\u001b[38;5;124mtaskkill\u001b[39m\u001b[38;5;124m\"\u001b[39m, \u001b[38;5;124m\"\u001b[39m\u001b[38;5;124m/f\u001b[39m\u001b[38;5;124m\"\u001b[39m, \u001b[38;5;124m\"\u001b[39m\u001b[38;5;124m/im\u001b[39m\u001b[38;5;124m\"\u001b[39m, \u001b[38;5;124m\"\u001b[39m\u001b[38;5;124mairsyn_synergy.exe\u001b[39m\u001b[38;5;124m\"\u001b[39m]) \n\u001b[0;32m     70\u001b[0m time\u001b[38;5;241m.\u001b[39msleep(\u001b[38;5;241m10\u001b[39m)\n\u001b[1;32m---> 72\u001b[0m \u001b[43mSynergy\u001b[49m\u001b[38;5;241;43m.\u001b[39;49m\u001b[43mOpenProject\u001b[49m\u001b[43m(\u001b[49m\u001b[38;5;124;43m\"\u001b[39;49m\u001b[38;5;124;43mH:\u001b[39;49m\u001b[38;5;130;43;01m\\\\\u001b[39;49;00m\u001b[38;5;124;43mMoldflow_Projects\u001b[39;49m\u001b[38;5;130;43;01m\\\\\u001b[39;49;00m\u001b[38;5;124;43mwall_slip\u001b[39;49m\u001b[38;5;130;43;01m\\\\\u001b[39;49;00m\u001b[38;5;124;43mwall_slip.mpi\u001b[39;49m\u001b[38;5;124;43m\"\u001b[39;49m\u001b[43m)\u001b[49m\n\u001b[0;32m     73\u001b[0m Project \u001b[38;5;241m=\u001b[39m Synergy\u001b[38;5;241m.\u001b[39mProject\n\u001b[0;32m     74\u001b[0m Project\u001b[38;5;241m.\u001b[39mOpenItemByName(\u001b[38;5;124mf\u001b[39m\u001b[38;5;124m\"\u001b[39m\u001b[38;5;124moptimization_\u001b[39m\u001b[38;5;132;01m{\u001b[39;00mi\u001b[38;5;241m+\u001b[39m\u001b[38;5;241m1\u001b[39m\u001b[38;5;132;01m}\u001b[39;00m\u001b[38;5;124m\"\u001b[39m, \u001b[38;5;124m\"\u001b[39m\u001b[38;5;124mStudy\u001b[39m\u001b[38;5;124m\"\u001b[39m)\n",
      "File \u001b[1;32m<COMObject synergy.Synergy>:2\u001b[0m, in \u001b[0;36mOpenProject\u001b[1;34m(self, *args)\u001b[0m\n",
      "\u001b[1;31mcom_error\u001b[0m: (-2147023174, 'Der RPC-Server ist nicht verfügbar.', None, None)"
     ]
    }
   ],
   "source": [
    "area_data_optimization = []\n",
    "train_x = torch.tensor([[tau_w_values[0], m_values[0]], [tau_w_values[1], m_values[1]], [tau_w_values[2], m_values[2]], [tau_w_values[3], m_values[3]], [tau_w_values[4], m_values[4]]])\n",
    "train_y = torch.tensor([[area_data[0]], [area_data[1]], [area_data[2]], [area_data[3]], [area_data[4]]])\n",
    "\n",
    "bounds = torch.tensor([\n",
    "    [0.001, 0.5],\n",
    "    [1, 2]\n",
    "], dtype=torch.float64\n",
    ")\n",
    "\n",
    "outcome_transform = Standardize(m=1)\n",
    "input_transform = Normalize(d=2)\n",
    "\n",
    "# Optimization\n",
    "\n",
    "num_iteration = 100\n",
    "#tolerance = 1e-12\n",
    "previous_best_area = float('inf')\n",
    "\n",
    "for i in range(num_iteration):\n",
    "    model = SingleTaskGP(train_x, train_y, outcome_transform=outcome_transform, input_transform=input_transform)\n",
    "    mll = ExactMarginalLogLikelihood(model.likelihood, model)\n",
    "    fit_gpytorch_mll(mll)\n",
    "    \n",
    "    acq_func = LogExpectedImprovement(model, best_f=train_y.min(), maximize=False)\n",
    "\n",
    "    candidate, _ = optimize_acqf(\n",
    "        acq_function=acq_func,\n",
    "        bounds=bounds,\n",
    "        q=1,\n",
    "        num_restarts=20,\n",
    "        raw_samples=25,\n",
    "    )\n",
    "\n",
    "    print(f\"Iteration {i+1}: Suggested new parameters (tau_w, m)\", candidate)\n",
    "\n",
    "    study_name = f\"optimization_{i+1}\"\n",
    "    Project = Synergy.Project\n",
    "    \n",
    "    PropEd = Synergy.PropertyEditor\n",
    "    Prop = PropEd.FindProperty(10090, 1)\n",
    "    DVec = Synergy.CreateDoubleArray\n",
    "    \n",
    "    DVec.AddDouble(candidate[0,0].item())\n",
    "    DVec.AddDouble(candidate[0,1].item())\n",
    "    DVec.AddDouble(1e-08)\n",
    "    DVec.AddDouble(0)\n",
    "    DVec.AddDouble(0)\n",
    "    \n",
    "    Prop.FieldValues(51182, DVec)\n",
    "          \n",
    "    PropEd.CommitChanges(\"Process Conditions\")\n",
    "    StudyDoc = Synergy.StudyDoc\n",
    "    StudyDoc.SaveAs(study_name)\n",
    "    \n",
    "    p = subprocess.Popen(\n",
    "    [os.path.join(moldflow, \"runstudy.exe\"), f\"H:\\\\Moldflow_Projects\\\\wall_slip\\\\optimization_{i+1}.sdy\"],\n",
    "    stdout=subprocess.PIPE,\n",
    "    stderr=subprocess.STDOUT,\n",
    "    )\n",
    "    (output, err) = p.communicate()\n",
    "    \n",
    "\n",
    "    time.sleep(10)\n",
    "    \n",
    "    # Restart of the Synergy to prevent XML saving crash\n",
    "    \n",
    "    subprocess.run([\"taskkill\", \"/f\", \"/im\", \"airsyn_synergy.exe\"]) \n",
    "\n",
    "    time.sleep(10)\n",
    "\n",
    "    Synergy.OpenProject(\"H:\\\\Moldflow_Projects\\\\wall_slip\\\\wall_slip.mpi\")\n",
    "    Project = Synergy.Project\n",
    "    Project.OpenItemByName(f\"optimization_{i+1}\", \"Study\")\n",
    "    PlotMgr = Synergy.PlotManager\n",
    "    time.sleep(10)\n",
    "    Plot = PlotMgr.FindPlotByName2(\"Press displacement:XY Plot\", \"Press displacement\")\n",
    "    Pid = Plot.GetDataID\n",
    "    PlotMgr = None\n",
    "    PlotMgr = Synergy.PlotManager\n",
    "    time.sleep(10)\n",
    "    PlotMgr.SaveResultDataInXML2( Pid, f\"H:\\\\XMLFiles\\\\optimization_{i + 1}.xml\", \"Metric\")\n",
    "    guess_tree = ET.parse(f\"H:\\\\XMLFiles\\\\optimization_{i + 1}.xml\")\n",
    "    guess_root = guess_tree.getroot()\n",
    "    \n",
    "    for time_block, dept_block in zip(guess_root.findall('.//Block//IndpVar'), guess_root.findall('.//Block')):\n",
    "            time_value = time_block.attrib.get('Value')\n",
    "            dept_value = dept_block.find('DeptValues').text.strip()\n",
    "            guess_data.append((time_value, dept_value))\n",
    "\n",
    "        \n",
    "    guess_data_array = np.array([(float(x), float(y)) for x, y in guess_data])\n",
    "    guess_time = guess_data_array[:, 0]  \n",
    "    guess_disp = guess_data_array[:, 1]  \n",
    "    \n",
    "    \n",
    "    area = calculate_area_between_curves(real_time, real_disp, guess_time, guess_disp)\n",
    "    area_data_optimization.append(area)\n",
    "    print(area_data_optimization)\n",
    "\n",
    "    \n",
    "# Write the output to a log file\n",
    "    with open(f\"H:\\\\Log_Files\\\\optimization_{i+1}.log\", \"w\") as file:\n",
    "        file.write(output.decode(\"windows-1252\").strip())\n",
    "\n",
    "    train_x = torch.cat([train_x, candidate], dim=0)\n",
    "    train_y = torch.cat([train_y, torch.tensor([[area]])], dim=0)\n",
    "\n",
    "    current_best_area = train_y.min().item()\n",
    "\n",
    "    if abs(current_best_area) < 0.1:\n",
    "        print(f\"Converged after {i+1} iteration\")\n",
    "        break\n",
    "\n",
    "    \n",
    "\n",
    "best_params = train_x[train_y.argmin()]\n",
    "best_area = train_y.min().item()\n",
    "print(f\"Best parameters (tau_w, m): {best_params}, with area: {best_area}\")"
   ]
  },
  {
   "cell_type": "code",
   "execution_count": null,
   "metadata": {},
   "outputs": [],
   "source": [
    "# common_time = np.linspace(min(real_time.min(), guess_time.min()), max(real_time.max(), guess_time.max()), num=500)\n",
    "\n",
    "# # Resample both curves on this time grid\n",
    "# real_disp_resampled = np.interp(common_time, real_time, real_disp)\n",
    "# guess_disp_resampled = np.interp(common_time, guess_time, guess_disp)\n",
    "\n"
   ]
  },
  {
   "cell_type": "code",
   "execution_count": null,
   "metadata": {},
   "outputs": [],
   "source": []
  }
 ],
 "metadata": {
  "kernelspec": {
   "display_name": "MF",
   "language": "python",
   "name": "python3"
  },
  "language_info": {
   "codemirror_mode": {
    "name": "ipython",
    "version": 3
   },
   "file_extension": ".py",
   "mimetype": "text/x-python",
   "name": "python",
   "nbconvert_exporter": "python",
   "pygments_lexer": "ipython3",
   "version": "3.12.6"
  }
 },
 "nbformat": 4,
 "nbformat_minor": 2
}
