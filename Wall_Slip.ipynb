{
 "cells": [
  {
   "cell_type": "code",
   "execution_count": 1,
   "metadata": {},
   "outputs": [
    {
     "name": "stderr",
     "output_type": "stream",
     "text": [
      "c:\\Users\\sozenosk\\AppData\\Local\\miniforge3\\Lib\\site-packages\\tqdm\\auto.py:21: TqdmWarning: IProgress not found. Please update jupyter and ipywidgets. See https://ipywidgets.readthedocs.io/en/stable/user_install.html\n",
      "  from .autonotebook import tqdm as notebook_tqdm\n"
     ]
    }
   ],
   "source": [
    "import torch\n",
    "from botorch.models import SingleTaskGP\n",
    "from botorch.fit import fit_gpytorch_mll\n",
    "from botorch.models.transforms.outcome import Standardize\n",
    "from botorch.models.transforms.input import Normalize\n",
    "from gpytorch.mlls import ExactMarginalLogLikelihood\n",
    "from botorch.acquisition.analytic import LogExpectedImprovement\n",
    "from botorch.optim import optimize_acqf\n",
    "from gpytorch.likelihoods import GaussianLikelihood\n",
    "import gpytorch\n",
    "import win32com.client\n",
    "from botorch.models.transforms import Normalize\n",
    "import xml.etree.ElementTree as ET\n",
    "import numpy as np\n",
    "import matplotlib.pyplot as plt\n",
    "from scipy.interpolate import interp1d\n",
    "from sklearn.metrics import mean_squared_error, mean_absolute_error\n",
    "torch.set_default_dtype(torch.float64)\n",
    "import time\n",
    "from scipy.stats import qmc\n",
    "import os\n",
    "import subprocess\n",
    "from watchdog.observers import Observer\n",
    "from watchdog.events import FileSystemEventHandler\n",
    "import re\n",
    "from pathlib import Path\n"
   ]
  },
  {
   "cell_type": "code",
   "execution_count": 2,
   "metadata": {},
   "outputs": [
    {
     "data": {
      "image/png": "[encoded data removed]",
      "text/plain": [
       "<Figure size 640x480 with 1 Axes>"
      ]
     },
     "metadata": {},
     "output_type": "display_data"
    }
   ],
   "source": [
    "# Generating inital values for Wall slip parameters\n",
    "\n",
    "#tau_w_range = [0.001, 1] \n",
    "#m_range = [0.5, 2]\n",
    "\n",
    "lower= [0.001, 0.5]\n",
    "upper = [1, 2]\n",
    "\n",
    "sampler = qmc.LatinHypercube(d=2)\n",
    "sample = sampler.random(5)\n",
    "\n",
    "scaled_values = qmc.scale(sample, lower, upper)\n",
    "tau_w_values = scaled_values[:,0]\n",
    "m_values = scaled_values[:,1]\n",
    "plt.scatter(tau_w_values, m_values)\n",
    "plt.show()\n"
   ]
  },
  {
   "cell_type": "code",
   "execution_count": 3,
   "metadata": {},
   "outputs": [],
   "source": [
    "def calculate_area_between_curves(real_time, real_disp, guess_time, guess_disp):\n",
    "    guess_disp_interpolated = np.interp(real_time, guess_time, guess_disp)\n",
    "    diff_disp = np.abs(real_disp - guess_disp_interpolated)\n",
    "    area = np.trapezoid(diff_disp, real_time)\n",
    "\n",
    "    return area\n",
    "\n",
    "file_directory = Path(\"H:\\\\XMLFiles\")\n",
    "real_data_directory = \"H:\\\\Real_data\\\\press_displacement_real.xml\"\n",
    "areas = []\n",
    "\n",
    "real_tree = ET.parse(real_data_directory)\n",
    "real_root = real_tree.getroot()\n",
    "real_data = []\n",
    "\n",
    "for time_block, dept_block in zip(real_root.findall('.//Block//IndpVar'), real_root.findall('.//Block')):\n",
    "    time_value = time_block.attrib.get('Value')\n",
    "    dept_value = dept_block.find('DeptValues').text.strip()\n",
    "    real_data.append((time_value, dept_value))\n",
    "\n",
    "real_data_array = np.array([(float(x), float(y)) for x, y in real_data])\n",
    "real_time = real_data_array[:, 0]  \n",
    "real_disp = real_data_array[:, 1]  \n",
    "\n",
    "\n",
    "def process_xml_file(file_directory):\n",
    "    try:\n",
    "\n",
    "        guess_tree = ET.parse(file_directory)\n",
    "        guess_root = guess_tree.getroot()\n",
    "        guess_data = []\n",
    "\n",
    "        \n",
    "        for time_block, dept_block in zip(guess_root.findall('.//Block//IndpVar'), guess_root.findall('.//Block')):\n",
    "            time_value = time_block.attrib.get('Value')\n",
    "            dept_value = dept_block.find('DeptValues').text.strip()\n",
    "            guess_data.append((time_value, dept_value))\n",
    "\n",
    "        \n",
    "        guess_data_array = np.array([(float(x), float(y)) for x, y in guess_data])\n",
    "        guess_time = guess_data_array[:, 0]  \n",
    "        guess_disp = guess_data_array[:, 1]  \n",
    "\n",
    "        print(f\"Time data: {guess_time}\")\n",
    "        print(f\"Displacement data: {guess_disp}\")\n",
    "        \n",
    "        \n",
    "\n",
    "    except Exception as e:\n",
    "        print(f\"Failed to process XML file {file_directory}: {e}\")\n",
    "\n",
    "\n",
    "\n"
   ]
  },
  {
   "cell_type": "code",
   "execution_count": 4,
   "metadata": {},
   "outputs": [
    {
     "name": "stdout",
     "output_type": "stream",
     "text": [
      "Simulation 1 with tau_w : 0.5128730617898078 and m: 1.0760252696605488\n"
     ]
    },
    {
     "ename": "com_error",
     "evalue": "(-2147023170, 'Der Remoteprozeduraufruf ist fehlgeschlagen.', None, None)",
     "output_type": "error",
     "traceback": [
      "\u001b[1;31m---------------------------------------------------------------------------\u001b[0m",
      "\u001b[1;31mcom_error\u001b[0m                                 Traceback (most recent call last)",
      "Cell \u001b[1;32mIn[4], line 48\u001b[0m\n\u001b[0;32m     46\u001b[0m Viewer\u001b[38;5;241m.\u001b[39mShowPlot(Plot)\n\u001b[0;32m     47\u001b[0m Plot \u001b[38;5;241m=\u001b[39m Viewer\u001b[38;5;241m.\u001b[39mActivePlot\n\u001b[1;32m---> 48\u001b[0m \u001b[43mPlot\u001b[49m\u001b[38;5;241;43m.\u001b[39;49m\u001b[43mSaveResultInXML\u001b[49m\u001b[43m(\u001b[49m\u001b[38;5;124;43mf\u001b[39;49m\u001b[38;5;124;43m\"\u001b[39;49m\u001b[38;5;124;43mH:\u001b[39;49m\u001b[38;5;130;43;01m\\\\\u001b[39;49;00m\u001b[38;5;124;43mXMLFiles\u001b[39;49m\u001b[38;5;130;43;01m\\\\\u001b[39;49;00m\u001b[38;5;124;43mstudy_\u001b[39;49m\u001b[38;5;132;43;01m{\u001b[39;49;00m\u001b[43mi\u001b[49m\u001b[38;5;250;43m \u001b[39;49m\u001b[38;5;241;43m+\u001b[39;49m\u001b[38;5;250;43m \u001b[39;49m\u001b[38;5;241;43m1\u001b[39;49m\u001b[38;5;132;43;01m}\u001b[39;49;00m\u001b[38;5;124;43m.xml\u001b[39;49m\u001b[38;5;124;43m\"\u001b[39;49m\u001b[43m)\u001b[49m\n\u001b[0;32m     50\u001b[0m guess_tree \u001b[38;5;241m=\u001b[39m ET\u001b[38;5;241m.\u001b[39mparse(\u001b[38;5;124mf\u001b[39m\u001b[38;5;124m\"\u001b[39m\u001b[38;5;124mH:\u001b[39m\u001b[38;5;130;01m\\\\\u001b[39;00m\u001b[38;5;124mXMLFiles\u001b[39m\u001b[38;5;130;01m\\\\\u001b[39;00m\u001b[38;5;124mstudy_\u001b[39m\u001b[38;5;132;01m{\u001b[39;00mi\u001b[38;5;250m \u001b[39m\u001b[38;5;241m+\u001b[39m\u001b[38;5;250m \u001b[39m\u001b[38;5;241m1\u001b[39m\u001b[38;5;132;01m}\u001b[39;00m\u001b[38;5;124m.xml\u001b[39m\u001b[38;5;124m\"\u001b[39m)\n\u001b[0;32m     51\u001b[0m guess_root \u001b[38;5;241m=\u001b[39m guess_tree\u001b[38;5;241m.\u001b[39mgetroot()\n",
      "File \u001b[1;32m<COMObject <unknown>>:2\u001b[0m, in \u001b[0;36mSaveResultInXML\u001b[1;34m(self, *args)\u001b[0m\n",
      "\u001b[1;31mcom_error\u001b[0m: (-2147023170, 'Der Remoteprozeduraufruf ist fehlgeschlagen.', None, None)"
     ]
    }
   ],
   "source": [
    "Synergy = win32com.client.Dispatch(\"synergy.Synergy\")\n",
    "Synergy.SetUnits(\"Metric\")\n",
    "moldflow = \"C:\\\\Program Files\\\\Autodesk\\\\Moldflow Insight 2023\\\\bin\"\n",
    "\n",
    "\n",
    "Synergy.OpenProject(\"H:\\\\Moldflow_Projects\\\\wall_slip\\\\wall_slip.mpi\")\n",
    "Project = Synergy.Project\n",
    "Project.OpenItemByName(\"60SurfaceCoverage_study\", \"Study\")\n",
    "\n",
    "# Simulation loop for wall slip parameters\n",
    "for i in range(5):\n",
    "    tau_w = tau_w_values[i]\n",
    "    m = m_values[i]\n",
    "    print(f\"Simulation {i+1} with tau_w : {tau_w} and m: {m}\")\n",
    "\n",
    "    study_name =f\"study_{i+1}\"\n",
    "    Project = Synergy.Project\n",
    "    \n",
    "    PropEd = Synergy.PropertyEditor\n",
    "    Prop = PropEd.FindProperty(10090, 1)\n",
    "    DVec = Synergy.CreateDoubleArray\n",
    "    \n",
    "    DVec.AddDouble(tau_w)\n",
    "    DVec.AddDouble(m)\n",
    "    DVec.AddDouble(1e-08)\n",
    "    DVec.AddDouble(0)\n",
    "    DVec.AddDouble(0)\n",
    "    \n",
    "    Prop.FieldValues(51182, DVec)\n",
    "          \n",
    "    PropEd.CommitChanges(\"Process Conditions\")\n",
    "\n",
    "    StudyDoc = Synergy.StudyDoc\n",
    "    StudyDoc.SaveAs(study_name)\n",
    "\n",
    "    p = subprocess.Popen(\n",
    "    [os.path.join(moldflow, \"runstudy.exe\"), f\"H:\\\\Moldflow_Projects\\\\wall_slip\\\\study_{i+1}.sdy\"],\n",
    "    stdout=subprocess.PIPE,\n",
    "    stderr=subprocess.STDOUT,\n",
    "    )\n",
    "    (output, err) = p.communicate()\n",
    "\n",
    "    PlotManager = Synergy.PlotManager\n",
    "    Plot = PlotManager.FindPlotByName2(\"Press displacement:XY Plot\", \"Press displacement\")\n",
    "    Viewer = Synergy.Viewer\n",
    "    Viewer.ShowPlot(Plot)\n",
    "    Plot = Viewer.ActivePlot\n",
    "    Plot.SaveResultInXML(f\"H:\\\\XMLFiles\\\\study_{i + 1}.xml\")\n",
    "\n",
    "    guess_tree = ET.parse(f\"H:\\\\XMLFiles\\\\study_{i + 1}.xml\")\n",
    "    guess_root = guess_tree.getroot()\n",
    "    guess_data = []\n",
    "\n",
    "        \n",
    "    for time_block, dept_block in zip(guess_root.findall('.//Block//IndpVar'), guess_root.findall('.//Block')):\n",
    "            time_value = time_block.attrib.get('Value')\n",
    "            dept_value = dept_block.find('DeptValues').text.strip()\n",
    "            guess_data.append((time_value, dept_value))\n",
    "\n",
    "        \n",
    "    guess_data_array = np.array([(float(x), float(y)) for x, y in guess_data])\n",
    "    guess_time = guess_data_array[:, 0]  \n",
    "    guess_disp = guess_data_array[:, 1]  \n",
    "    \n",
    "    area_data = []\n",
    "    area = calculate_area_between_curves(real_time, real_disp, guess_time, guess_disp)\n",
    "    area_data.append(area)\n",
    "    print(area_data)\n",
    "# Write the output to a log file\n",
    "    with open(f\"H:\\\\Log_Files\\\\study_{i+1}.log\", \"w\") as file:\n",
    "        file.write(output.decode(\"windows-1252\").strip())"
   ]
  },
  {
   "cell_type": "code",
   "execution_count": null,
   "metadata": {},
   "outputs": [],
   "source": []
  }
 ],
 "metadata": {
  "kernelspec": {
   "display_name": "base",
   "language": "python",
   "name": "python3"
  },
  "language_info": {
   "codemirror_mode": {
    "name": "ipython",
    "version": 3
   },
   "file_extension": ".py",
   "mimetype": "text/x-python",
   "name": "python",
   "nbconvert_exporter": "python",
   "pygments_lexer": "ipython3",
   "version": "3.12.6"
  }
 },
 "nbformat": 4,
 "nbformat_minor": 2
}
