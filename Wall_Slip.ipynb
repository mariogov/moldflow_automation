{
 "cells": [
  {
   "cell_type": "code",
   "execution_count": null,
   "metadata": {},
   "outputs": [],
   "source": [
    "import torch\n",
    "from botorch.models import SingleTaskGP\n",
    "from botorch.fit import fit_gpytorch_mll\n",
    "from botorch.models.transforms.outcome import Standardize\n",
    "from botorch.models.transforms.input import Normalize\n",
    "from gpytorch.mlls import ExactMarginalLogLikelihood\n",
    "from botorch.acquisition.analytic import LogExpectedImprovement\n",
    "from botorch.optim import optimize_acqf\n",
    "from gpytorch.likelihoods import GaussianLikelihood\n",
    "import gpytorch\n",
    "import win32com.client\n",
    "from botorch.models.transforms import Normalize\n",
    "import xml.etree.ElementTree as ET\n",
    "import numpy as np\n",
    "import matplotlib.pyplot as plt\n",
    "from scipy.interpolate import interp1d\n",
    "from sklearn.metrics import mean_squared_error, mean_absolute_error\n",
    "torch.set_default_dtype(torch.float64)\n",
    "import time\n",
    "from scipy.stats import qmc\n",
    "import os\n",
    "import subprocess\n"
   ]
  },
  {
   "cell_type": "code",
   "execution_count": null,
   "metadata": {},
   "outputs": [],
   "source": [
    "# Generating inital values for Wall slip parameters\n",
    "\n",
    "tau_w_range = [0.001, 1]  # critical shear stress\n",
    "m_range = [0.5, 2]\n",
    "\n",
    "sampler = qmc.LatinHypercube(d=1)\n",
    "sample = sampler.random(5)\n",
    "\n",
    "tau_w_values = qmc.scale(sample, tau_w_range[0], tau_w_range[1])\n",
    "m_values = qmc.scale(sample, m_range[0], m_range[1])\n",
    "\n"
   ]
  },
  {
   "cell_type": "code",
   "execution_count": null,
   "metadata": {},
   "outputs": [],
   "source": [
    "Synergy = win32com.client.Dispatch(\"synergy.Synergy\")\n",
    "Synergy.SetUnits(\"Metric\")\n",
    "moldflow = \"C:\\\\Program Files\\\\Autodesk\\\\Moldflow Insight 2023\\\\bin\"\n",
    "\n",
    "\n",
    "Synergy.OpenProject(\"C:\\\\Users\\\\oskay\\\\Documents\\\\My AMI 2023 Projects\\\\wall_slip\\\\wall_slip.mpi\")\n",
    "Project = Synergy.Project\n",
    "Project.OpenItemByName(\"60SurfaceCoverage_study\", \"Study\")\n",
    "\n",
    "# Simulation loop for wall slip parameters\n",
    "for i in range(5):\n",
    "    tau_w = tau_w_values[i][0]\n",
    "    m = m_values[i][0]\n",
    "    print(f\"Simulation {i+1} with tau_w : {tau_w} and m: {m}\")\n",
    "\n",
    "    study_name =f\"study_{i+1}\"\n",
    "    Project = Synergy.Project\n",
    "    \n",
    "    PropEd = Synergy.PropertyEditor\n",
    "    Prop = PropEd.FindProperty(10090, 1)\n",
    "    DVec = Synergy.CreateDoubleArray\n",
    "    \n",
    "    DVec.AddDouble(tau_w)\n",
    "    DVec.AddDouble(m)\n",
    "    DVec.AddDouble(1e-08)\n",
    "    DVec.AddDouble(0)\n",
    "    DVec.AddDouble(0)\n",
    "    \n",
    "    Prop.FieldValues(51182, DVec)\n",
    "          \n",
    "    PropEd.CommitChanges(\"Process Conditions\")\n",
    "\n",
    "    StudyDoc = Synergy.StudyDoc\n",
    "    StudyDoc.SaveAs(study_name)\n",
    "\n",
    "    p = subprocess.Popen(\n",
    "    [os.path.join(moldflow, \"runstudy.exe\"), \"C:\\\\Users\\\\oskay\\\\Documents\\\\My AMI 2023 Projects\\\\wall_slip\\\\60Surfacecoverage_study.sdy\"],\n",
    "    stdout=subprocess.PIPE,\n",
    "    stderr=subprocess.STDOUT,\n",
    "    )\n",
    "    (output, err) = p.communicate()\n",
    "\n",
    "# Write the output to a log file\n",
    "with open(\"C:\\\\Users\\\\oskay\\\\Documents\\\\study.log\", \"w\") as file:\n",
    "    file.write(output.decode(\"windows-1252\").strip())\n",
    "\n",
    "\n"
   ]
  },
  {
   "cell_type": "code",
   "execution_count": null,
   "metadata": {},
   "outputs": [],
   "source": [
    "\n"
   ]
  }
 ],
 "metadata": {
  "kernelspec": {
   "display_name": "Python 3",
   "language": "python",
   "name": "python3"
  },
  "language_info": {
   "codemirror_mode": {
    "name": "ipython",
    "version": 3
   },
   "file_extension": ".py",
   "mimetype": "text/x-python",
   "name": "python",
   "nbconvert_exporter": "python",
   "pygments_lexer": "ipython3",
   "version": "3.12.6"
  }
 },
 "nbformat": 4,
 "nbformat_minor": 2
}
