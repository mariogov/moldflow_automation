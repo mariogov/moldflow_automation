{
 "cells": [
  {
   "cell_type": "code",
   "execution_count": 1,
   "metadata": {},
   "outputs": [
    {
     "name": "stderr",
     "output_type": "stream",
     "text": [
      "c:\\Users\\sozenosk\\AppData\\Local\\miniforge3\\envs\\moldflow\\Lib\\site-packages\\tqdm\\auto.py:21: TqdmWarning: IProgress not found. Please update jupyter and ipywidgets. See https://ipywidgets.readthedocs.io/en/stable/user_install.html\n",
      "  from .autonotebook import tqdm as notebook_tqdm\n"
     ]
    }
   ],
   "source": [
    "import torch\n",
    "from botorch.models import SingleTaskGP\n",
    "from botorch.fit import fit_gpytorch_mll\n",
    "from botorch.models.transforms.outcome import Standardize\n",
    "from botorch.models.transforms.input import Normalize\n",
    "from gpytorch.mlls import ExactMarginalLogLikelihood\n",
    "from botorch.acquisition.analytic import LogExpectedImprovement\n",
    "from botorch.optim import optimize_acqf\n",
    "from gpytorch.likelihoods import GaussianLikelihood\n",
    "import gpytorch\n",
    "import win32com.client\n",
    "from botorch.models.transforms import Normalize\n",
    "import xml.etree.ElementTree as ET\n",
    "import numpy as np\n",
    "import matplotlib.pyplot as plt\n",
    "from scipy.interpolate import interp1d\n",
    "from sklearn.metrics import mean_squared_error, mean_absolute_error\n",
    "torch.set_default_dtype(torch.float64)\n",
    "import time\n",
    "from scipy.stats import qmc\n",
    "import os\n",
    "import subprocess\n"
   ]
  },
  {
   "cell_type": "code",
   "execution_count": 7,
   "metadata": {},
   "outputs": [
    {
     "data": {
      "image/png": "[encoded data removed]",
      "text/plain": [
       "<Figure size 640x480 with 1 Axes>"
      ]
     },
     "metadata": {},
     "output_type": "display_data"
    }
   ],
   "source": [
    "# Generating inital values for Wall slip parameters\n",
    "\n",
    "#tau_w_range = [0.001, 1] \n",
    "#m_range = [0.5, 2]\n",
    "\n",
    "lower= [0.001, 0.5]\n",
    "upper = [1, 2]\n",
    "\n",
    "sampler = qmc.LatinHypercube(d=2)\n",
    "sample = sampler.random(5)\n",
    "\n",
    "scaled_values = qmc.scale(sample, lower, upper)\n",
    "tau_w_values = scaled_values[:,0]\n",
    "m_values = scaled_values[:,1]\n",
    "plt.scatter(tau_w_values, m_values)\n",
    "plt.show()\n"
   ]
  },
  {
   "cell_type": "code",
   "execution_count": 3,
   "metadata": {},
   "outputs": [
    {
     "name": "stdout",
     "output_type": "stream",
     "text": [
      "Simulation 1 with tau_w : 0.7784336855961307 and m: 1.11058262730383\n",
      "Simulation 2 with tau_w : 0.2345304062527368 and m: 1.67831488438925\n",
      "Simulation 3 with tau_w : 0.5500971427285376 and m: 1.8964457506031343\n",
      "Simulation 4 with tau_w : 0.016070175523300038 and m: 1.0885356577124294\n",
      "Simulation 5 with tau_w : 0.8594191213286675 and m: 0.5669672080031625\n"
     ]
    }
   ],
   "source": [
    "Synergy = win32com.client.Dispatch(\"synergy.Synergy\")\n",
    "Synergy.SetUnits(\"Metric\")\n",
    "moldflow = \"C:\\\\Program Files\\\\Autodesk\\\\Moldflow Insight 2023\\\\bin\"\n",
    "\n",
    "\n",
    "Synergy.OpenProject(\"H:\\\\Moldflow_Projects\\\\wall_slip\\\\wall_slip.mpi\")\n",
    "Project = Synergy.Project\n",
    "Project.OpenItemByName(\"60SurfaceCoverage_study\", \"Study\")\n",
    "\n",
    "# Simulation loop for wall slip parameters\n",
    "for i in range(5):\n",
    "    tau_w = tau_w_values[i]\n",
    "    m = m_values[i]\n",
    "    print(f\"Simulation {i+1} with tau_w : {tau_w} and m: {m}\")\n",
    "\n",
    "    study_name =f\"study_{i+1}\"\n",
    "    Project = Synergy.Project\n",
    "    \n",
    "    PropEd = Synergy.PropertyEditor\n",
    "    Prop = PropEd.FindProperty(10090, 1)\n",
    "    DVec = Synergy.CreateDoubleArray\n",
    "    \n",
    "    DVec.AddDouble(tau_w)\n",
    "    DVec.AddDouble(m)\n",
    "    DVec.AddDouble(1e-08)\n",
    "    DVec.AddDouble(0)\n",
    "    DVec.AddDouble(0)\n",
    "    \n",
    "    Prop.FieldValues(51182, DVec)\n",
    "          \n",
    "    PropEd.CommitChanges(\"Process Conditions\")\n",
    "\n",
    "    StudyDoc = Synergy.StudyDoc\n",
    "    StudyDoc.SaveAs(study_name)\n",
    "\n",
    "    p = subprocess.Popen(\n",
    "    [os.path.join(moldflow, \"runstudy.exe\"), f\"H:\\\\Moldflow_Projects\\\\wall_slip\\\\study_{i+1}.sdy\"],\n",
    "    stdout=subprocess.PIPE,\n",
    "    stderr=subprocess.STDOUT,\n",
    "    )\n",
    "    (output, err) = p.communicate()\n",
    "\n",
    "\n",
    "\n",
    "\n",
    "\n",
    "# Write the output to a log file\n",
    "    with open(f\"H:\\\\Log_Files\\\\study_{i+1}.log\", \"w\") as file:\n",
    "        file.write(output.decode(\"windows-1252\").strip())"
   ]
  },
  {
   "cell_type": "code",
   "execution_count": null,
   "metadata": {},
   "outputs": [],
   "source": []
  }
 ],
 "metadata": {
  "kernelspec": {
   "display_name": "moldflow",
   "language": "python",
   "name": "python3"
  },
  "language_info": {
   "codemirror_mode": {
    "name": "ipython",
    "version": 3
   },
   "file_extension": ".py",
   "mimetype": "text/x-python",
   "name": "python",
   "nbconvert_exporter": "python",
   "pygments_lexer": "ipython3",
   "version": "3.12.7"
  }
 },
 "nbformat": 4,
 "nbformat_minor": 2
}
