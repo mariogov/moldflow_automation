{
 "cells": [
  {
   "cell_type": "code",
   "execution_count": 199,
   "metadata": {},
   "outputs": [],
   "source": [
    "\n",
    "import xml.etree.ElementTree as ET\n",
    "import torch\n",
    "import numpy as np\n",
    "import matplotlib.pyplot as plt\n",
    "from scipy.interpolate import interp1d\n",
    "from sklearn.metrics import mean_squared_error, mean_absolute_error"
   ]
  },
  {
   "cell_type": "markdown",
   "metadata": {},
   "source": [
    "# Data extract"
   ]
  },
  {
   "cell_type": "code",
   "execution_count": 228,
   "metadata": {},
   "outputs": [],
   "source": [
    "\n",
    "# List of file paths\n",
    "file_paths = [\n",
    "    'H:\\\\XMLFiles//',\n",
    "    'H:\\\\XMLFiles',\n",
    "    'H:\\\\XMLFiles',\n",
    "    'H:\\\\XMLFiles',\n",
    "    'H:\\\\XMLFiles',\n",
    "    'D:\\\\SMC Optimization\\\\SMC_Mock_Sim\\\\Mock_Simulation\\\\press_displacement_real.xml',\n",
    "    'D:\\\\SMC Optimization\\\\SMC_Mock_Sim\\\\Mock_Simulation\\\\press_displacement_c1.xml',\n",
    "    'D:\\\\SMC Optimization\\\\SMC_Mock_Sim\\\\Mock_Simulation\\\\press_displacement_c2.xml',\n",
    "    'D:\\\\SMC Optimization\\\\SMC_Mock_Sim\\\\Mock_Simulation\\\\press_displacement_c1a.xml'\n",
    "]\n",
    "\n",
    "guess1_time, guess1_disp = None, None\n",
    "guess2_time, guess2_disp = None, None\n",
    "guess3_time, guess3_disp = None, None\n",
    "guess4_time, guess4_disp = None, None\n",
    "guess5_time, guess5_disp = None, None\n",
    "real_time, real_disp = None, None\n",
    "\n",
    "\n",
    "for i, file_path in enumerate(file_paths):\n",
    "    tree = ET.parse(file_path)  # Parse the XML file\n",
    "    root = tree.getroot()\n",
    "\n",
    "    guess_data = []\n",
    "\n",
    "    # Extract time and displacement data\n",
    "    for time_block, dept_block in zip(root.findall('.//Block//IndpVar'), root.findall('.//Block')):\n",
    "        time_value = time_block.attrib.get('Value')\n",
    "        dept_value = dept_block.find('DeptValues').text.strip()\n",
    "        guess_data.append((time_value, dept_value))\n",
    "\n",
    "    # Convert to numpy array and separate time and displacement values\n",
    "    guess_data_array = np.array([(float(x), float(y)) for x, y in guess_data])\n",
    "    time_data = guess_data_array[:, 0]  # First column for x-axis values\n",
    "    disp_data = guess_data_array[:, 1]  # Second column for y-axis values\n",
    "\n",
    "    # Assign the time and displacement data to the respective variables\n",
    "    if i == 0:\n",
    "        guess1_time, guess1_disp = time_data, disp_data\n",
    "    elif i == 1:\n",
    "        guess2_time, guess2_disp = time_data, disp_data\n",
    "    elif i == 2:\n",
    "        guess3_time, guess3_disp = time_data, disp_data\n",
    "    elif i == 3:\n",
    "        guess4_time, guess4_disp = time_data, disp_data\n",
    "    elif i == 4:   \n",
    "        guess5_time, guess5_disp = time_data, disp_data \n",
    "    elif i == 5:\n",
    "        real_time, real_disp = time_data, disp_data\n",
    "    elif i == 6:\n",
    "        candidate1_time, candidate1_disp = time_data, disp_data\n",
    "    elif i == 7:\n",
    "        candidate2_time, candidate2_disp = time_data, disp_data\n",
    "    elif i == 8:\n",
    "        candidate1a_time, candidate1a_disp = time_data, disp_data\n",
    "\n",
    "     "
   ]
  },
  {
   "cell_type": "code",
   "execution_count": null,
   "metadata": {},
   "outputs": [],
   "source": [
    "print(candidate1_disp)"
   ]
  },
  {
   "cell_type": "code",
   "execution_count": 230,
   "metadata": {},
   "outputs": [
    {
     "name": "stdout",
     "output_type": "stream",
     "text": [
      "Area between real and guess 1: 0.001485182056299268\n",
      "Area between real and guess 2: 0.0019705673066026984\n",
      "Area between real and guess 3: 0.004624429474288485\n",
      "Area between real and guess 4: 0.0018803643706964024\n",
      "Area between real and guess 5: 0.00043436256803102525\n",
      "Area between real and guess 6: 0.00017639212661065785\n",
      "Area between real and guess 7: 0.00012952425761859226\n",
      "Area between real and guess 1a: 0.0007558629344208146\n"
     ]
    }
   ],
   "source": [
    "def calculate_area_between_curves(real_time, real_disp, guess_time, guess_disp):\n",
    "    # Interpoalte the datasets to real_time\n",
    "    guess_disp_interpolated = np.interp(real_time, guess_time, guess_disp)\n",
    "    \n",
    "    \n",
    "    diff_disp = np.abs(real_disp - guess_disp_interpolated)\n",
    "    \n",
    "   \n",
    "    area = np.trapz(diff_disp, real_time)\n",
    "    \n",
    "    return area\n",
    "\n",
    "\n",
    "area1 = calculate_area_between_curves(real_time, real_disp, guess1_time, guess1_disp)\n",
    "area2 = calculate_area_between_curves(real_time, real_disp, guess2_time, guess2_disp)\n",
    "area3 = calculate_area_between_curves(real_time, real_disp, guess3_time, guess3_disp)\n",
    "area4 = calculate_area_between_curves(real_time, real_disp, guess4_time, guess4_disp)\n",
    "area5 = calculate_area_between_curves(real_time, real_disp, guess5_time, guess5_disp)\n",
    "\n",
    "\n",
    "print(f\"Area between real and guess 1: {area1}\")\n",
    "print(f\"Area between real and guess 2: {area2}\")\n",
    "print(f\"Area between real and guess 3: {area3}\")\n",
    "print(f\"Area between real and guess 4: {area4}\")\n",
    "print(f\"Area between real and guess 5: {area5}\")"
   ]
  },
  {
   "cell_type": "code",
   "execution_count": null,
   "metadata": {},
   "outputs": [],
   "source": []
  }
 ],
 "metadata": {
  "kernelspec": {
   "display_name": "base",
   "language": "python",
   "name": "python3"
  },
  "language_info": {
   "codemirror_mode": {
    "name": "ipython",
    "version": 3
   },
   "file_extension": ".py",
   "mimetype": "text/x-python",
   "name": "python",
   "nbconvert_exporter": "python",
   "pygments_lexer": "ipython3",
   "version": "3.12.6"
  }
 },
 "nbformat": 4,
 "nbformat_minor": 2
}
