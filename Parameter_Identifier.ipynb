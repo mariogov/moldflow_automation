{
 "cells": [
  {
   "cell_type": "code",
   "execution_count": 1,
   "metadata": {},
   "outputs": [],
   "source": [
    "import torch\n",
    "from botorch.models import SingleTaskGP\n",
    "from botorch.fit import fit_gpytorch_mll\n",
    "from botorch.models.transforms.outcome import Standardize\n",
    "from botorch.models.transforms.input import Normalize\n",
    "from gpytorch.mlls import ExactMarginalLogLikelihood\n",
    "from botorch.acquisition import ExpectedImprovement\n",
    "from botorch.acquisition.analytic import LogExpectedImprovement\n",
    "from botorch.acquisition import qLogExpectedImprovement\n",
    "from botorch.optim import optimize_acqf\n",
    "from gpytorch.likelihoods import GaussianLikelihood\n",
    "import gpytorch\n",
    "import win32com.client\n",
    "from botorch.models.transforms import Normalize\n",
    "import xml.etree.ElementTree as ET\n",
    "import numpy as np\n",
    "import matplotlib.pyplot as plt\n",
    "from scipy.interpolate import interp1d\n",
    "from sklearn.metrics import mean_absolute_error\n",
    "from scipy.stats import qmc\n",
    "import os\n",
    "import subprocess\n",
    "from pathlib import Path\n",
    "import time\n",
    "import pandas as pd\n",
    "import plotly.graph_objects as go\n",
    "from utils import parse_real_disp, CABC_Displacement, CABC_Force, parse_real_force\n",
    "\n",
    "torch.set_default_dtype(torch.float64)"
   ]
  },
  {
   "cell_type": "markdown",
   "metadata": {},
   "source": [
    "# Random Parameter Generation"
   ]
  },
  {
   "cell_type": "code",
   "execution_count": null,
   "metadata": {},
   "outputs": [],
   "source": [
    "# # Bounds\n",
    "# n_bounds = (0.2, 0.8)\n",
    "# tau_star_bounds = (10000.0, 80000.0)\n",
    "# # B_bounds_log = (np.log10(1.0e+14), np.log10(1.916e+19))  # log10 scaling\n",
    "# tau_w_bounds = (0.005, 1.0)\n",
    "# m_bounds = (1.0, 1.9)\n",
    "\n",
    "# # LHs Sampling\n",
    "# sampler = qmc.LatinHypercube(d=4)\n",
    "# sample = sampler.random(10)  # 5 samples\n",
    "\n",
    "# # # Scaling\n",
    "# n_values = sample[:, 0] * (n_bounds[1] - n_bounds[0]) + n_bounds[0]\n",
    "# tau_star_values = sample[:, 1] * (tau_star_bounds[1] - tau_star_bounds[0]) + tau_star_bounds[0]\n",
    "# # B_values = 10 ** (sample[:, 2] * (B_bounds_log[1] - B_bounds_log[0]) + B_bounds_log[0])\n",
    "# tau_w_values = sample[:, 2] * (tau_w_bounds[1] - tau_w_bounds[0]) + tau_w_bounds[0]\n",
    "# m_values = sample[:, 3] * (m_bounds[1] - m_bounds[0]) + m_bounds[0]\n",
    "\n",
    "# # # save2CSV\n",
    "# df = pd.DataFrame({\n",
    "#     'n': n_values,\n",
    "#     'tau_star': tau_star_values,\n",
    "#     # 'B': B_values,\n",
    "#     'tau_w': tau_w_values,\n",
    "#     'm': m_values\n",
    "# })\n",
    "# df.to_csv(\"combined_LHS_parameters.csv\", index=False)"
   ]
  },
  {
   "cell_type": "markdown",
   "metadata": {},
   "source": [
    "# XML Parsing - Master Curve"
   ]
  },
  {
   "cell_type": "code",
   "execution_count": 2,
   "metadata": {},
   "outputs": [],
   "source": [
    "# Directories\n",
    "real_disp_path = \"H:\\\\Real_data\\\\press_displacement_real.xml\"\n",
    "real_force_path = \"H:\\\\Real_data\\\\press_force_real.xml\"\n",
    "\n",
    "# Force XML\n",
    "\n",
    "real_force_time, real_force = parse_real_force(real_force_path)\n",
    "\n",
    "def calculate_area_between_curves(real_time, real_disp, guess_time, guess_disp):\n",
    "    common_time = np.linspace(0.0, max(real_time.max(), guess_time.max()), num=200)\n",
    "\n",
    "    # Resample both curves on this time grid\n",
    "    real_disp_resampled = np.interp(common_time, real_time, real_disp)\n",
    "    guess_disp_resampled = np.interp(common_time, guess_time, guess_disp)\n",
    "\n",
    "    mse = np.mean((real_disp_resampled-guess_disp_resampled)**2)\n",
    "    \n",
    "    return mse\n",
    "\n",
    "real_data_directory = \"H:\\\\Real_data\\\\press_force_real.xml\"\n",
    "areas = []\n",
    "area_data = []\n",
    "\n",
    "real_tree = ET.parse(real_data_directory)\n",
    "real_root = real_tree.getroot()\n",
    "real_data = []\n",
    "guess_data_all = {}\n",
    "\n",
    "count = 0\n",
    "\n",
    "for time_block, dept_block in zip(real_root.findall('.//Block//IndpVar'), real_root.findall('.//Block')):\n",
    "    if count >=  27:\n",
    "        break  # Stop the loop after collecting 27 values\n",
    "\n",
    "    time_value = time_block.attrib.get('Value')\n",
    "    dept_value = dept_block.find('DeptValues').text.strip()\n",
    "    real_data.append((time_value, dept_value))\n",
    "\n",
    "    count += 1\n",
    "\n",
    "real_data_array = np.array([(float(x), float(y)) for x, y in real_data])\n",
    "real_time = real_data_array[:, 0]  \n",
    "real_disp = real_data_array[:, 1]   / 1000"
   ]
  },
  {
   "cell_type": "code",
   "execution_count": null,
   "metadata": {},
   "outputs": [],
   "source": [
    "# file_info = [\n",
    "#     {\n",
    "#         \"path\" : \"H:\\\\DLR Press Data\\\\60percent4STACKBAR150bar03mms388g.txt\",  #0\n",
    "#         \"force_start\"   : \"31.07.2025 10:39:06.150461\",\n",
    "#         \"force_end\"     : \"31.07.2025 10:39:24.070461\",\n",
    "#         \"pos_start\"     : \"31.07.2025 10:39:24.070461\",\n",
    "#         \"pos_end\"       : \"31.07.2025 10:42:34.610461\"\n",
    "#     },\n",
    "#     {\n",
    "#         \"path\" : \"H:\\\\DLR Press Data\\\\60percent4STACKBAR150bar07mms384g.txt\",  #1\n",
    "#         \"force_start\"   : \"31.07.2025 10:18:27.193997\",\n",
    "#         \"force_end\"     : \"31.07.2025 10:18:35.113997\",\n",
    "#         \"pos_start\"     : \"31.07.2025 10:18:35.113997\",\n",
    "#         \"pos_end\"       : \"31.07.2025 10:20:44.573997\"\n",
    "#     },\n",
    "#     {\n",
    "#         \"path\" : \"H:\\\\DLR Press Data\\\\60percent4STACKBAR150bar11mms414g.txt\",  #2\n",
    "#         \"force_start\"   : \"30.07.2025 13:43:44.197899\",\n",
    "#         \"force_end\"     : \"30.07.2025 13:43:49.057899\",\n",
    "#         \"pos_start\"     : \"30.07.2025 13:43:49.057899\",\n",
    "#         \"pos_end\"       : \"30.07.2025 13:46:49.957899\"\n",
    "#     },\n",
    "#     {\n",
    "#         \"path\" : \"H:\\\\DLR Press Data\\\\60percent4STACKCENTER150bar03mms396g.txt\", #3\n",
    "#         \"force_start\"   : \"29.07.2025 15:27:01.321079\",\n",
    "#         \"force_end\"     : \"29.07.2025 15:27:19.181079\",\n",
    "#         \"pos_start\"     : \"29.07.2025 15:27:19.181079\",\n",
    "#         \"pos_end\"       : \"29.07.2025 15:30:46.881079\"\n",
    "#     },\n",
    "#     {\n",
    "#         \"path\" : \"H:\\\\DLR Press Data\\\\60percent4STACKCENTER150bar07mms398g.txt\", #4\n",
    "#         \"force_start\"   : \"30.07.2025 12:19:49.167098\",\n",
    "#         \"force_end\"     : \"30.07.2025 12:19:57.487098\",\n",
    "#         \"pos_start\"     : \"30.07.2025 12:19:57.487098\",\n",
    "#         \"pos_end\"       : \"30.07.2025 12:21:55.287098\"\n",
    "#     },\n",
    "#     {\n",
    "#         \"path\" : \"H:\\\\DLR Press Data\\\\60percent4STACKCENTER150bar11mms393g.txt\", #5\n",
    "#         \"force_start\"   : \"30.07.2025 12:46:38.439119\",\n",
    "#         \"force_end\"     : \"30.07.2025 12:46:43.619119\",\n",
    "#         \"pos_start\"     : \"30.07.2025 12:46:43.619119\",\n",
    "#         \"pos_end\"       : \"30.07.2025 12:50:18.619119\"\n",
    "#     },\n",
    "#     {\n",
    "#         \"path\" : \"H:\\\\DLR Press Data\\\\60percent4STACKCENTER200bar11mms365g.txt\",#6\n",
    "#         \"force_start\"   : \"31.07.2025 11:00:47.633201\",\n",
    "#         \"force_end\"     : \"31.07.2025 11:00:53.213201\",\n",
    "#         \"pos_start\"     : \"31.07.2025 11:00:53.213201\",\n",
    "#         \"pos_end\"       : \"31.07.2025 11:06:35.493201\"\n",
    "#     },\n",
    "#     {\n",
    "#         \"path\" : \"H:\\\\DLR Press Data\\\\80percent4STACKBAR150bar03mms508g.txt\", #7\n",
    "#         \"force_start\"   : \"30.07.2025 11:47:26.451826\",\n",
    "#         \"force_end\"     : \"30.07.2025 11:47:42.371826\",\n",
    "#         \"pos_start\"     : \"30.07.2025 11:47:42.371826\",\n",
    "#         \"pos_end\"       : \"30.07.2025 11:50:53.831826\"\n",
    "#     },\n",
    "#     {\n",
    "#         \"path\" : \"H:\\\\DLR Press Data\\\\80percent4STACKBAR150bar07mms525g.txt\", #8\n",
    "#         \"force_start\"   : \"31.07.2025 14:21:37.055615\",\n",
    "#         \"force_end\"     : \"31.07.2025 14:21:43.535615\",\n",
    "#         \"pos_start\"     : \"31.07.2025 14:21:43.535615\",\n",
    "#         \"pos_end\"       : \"31.07.2025 14:24:04.975615\"\n",
    "#     },\n",
    "#     {\n",
    "#         \"path\" : \"H:\\\\DLR Press Data\\\\80percent4STACKBAR150bar11mms531g.txt\", #9\n",
    "#         \"force_start\"   : \"31.07.2025 14:49:31.716399\",\n",
    "#         \"force_end\"     : \"31.07.2025 14:49:35.816399\",\n",
    "#         \"pos_start\"     : \"31.07.2025 14:49:35.816399\",\n",
    "#         \"pos_end\"       : \"31.07.2025 15:01:25.776399\"\n",
    "#     },\n",
    "#     {\n",
    "#         \"path\" : \"H:\\\\DLR Press Data\\\\80percent4STACKCENTER150bar03mms542g.txt\", #10\n",
    "#         \"force_start\"   : \"31.07.2025 09:07:08.361246\",\n",
    "#         \"force_end\"     : \"31.07.2025 09:07:23.161246\",\n",
    "#         \"pos_start\"     : \"31.07.2025 09:07:23.161246\",\n",
    "#         \"pos_end\"       : \"31.07.2025 09:09:48.641246\"\n",
    "#     },\n",
    "#     {\n",
    "#         \"path\" : \"H:\\\\DLR Press Data\\\\80percent4STACKCENTER150bar07mms527g.txt\", #11\n",
    "#         \"force_start\"   : \"30.07.2025 15:33:47.945013\",\n",
    "#         \"force_end\"     : \"30.07.2025 15:33:54.465013\",\n",
    "#         \"pos_start\"     : \"30.07.2025 15:33:54.465013\",\n",
    "#         \"pos_end\"       : \"30.07.2025 15:36:35.305013\"\n",
    "#     },\n",
    "#     {\n",
    "#         \"path\" : \"H:\\\\DLR Press Data\\\\80percent4STACKCENTER150bar11mms543g.txt\", #12\n",
    "#         \"force_start\"   : \"31.07.2025 09:56:19.454633\",\n",
    "#         \"force_end\"     : \"31.07.2025 09:56:23.494633\",\n",
    "#         \"pos_start\"     : \"31.07.2025 09:56:23.494633\",\n",
    "#         \"pos_end\"       : \"31.07.2025 09:58:13.974633\"  \n",
    "#     },\n",
    "#     {\n",
    "#         \"path\" : \"H:\\\\DLR Press Data\\\\SPLITCONF80percent4STACKBAR150bar03mms518g.txt\", #13\n",
    "#         \"force_start\"   : \"31.07.2025 15:16:03.864139\",\n",
    "#         \"force_end\"     : \"31.07.2025 15:16:18.464139\",\n",
    "#         \"pos_start\"     : \"31.07.2025 15:16:18.464139\",\n",
    "#         \"pos_end\"       : \"31.07.2025 15:20:00.584139\"  \n",
    "#     }\n",
    "\n",
    "# ]"
   ]
  },
  {
   "cell_type": "code",
   "execution_count": null,
   "metadata": {},
   "outputs": [],
   "source": [
    "# # Load the CSV data from the first file_info\n",
    "# index_master = 10  # or whichever index you want\n",
    "# master_info = file_info[index_master]\n",
    "\n",
    "# df_master = pd.read_csv(\n",
    "#     master_info[\"path\"],\n",
    "#     encoding='utf-16-le',\n",
    "#     sep=';',\n",
    "#     skiprows=1,\n",
    "#     quotechar='\"'\n",
    "# )\n",
    "\n",
    "# # Clean and preprocess\n",
    "# df_master = df_master.rename(columns={\n",
    "#     'time': 'Time',\n",
    "#     'dbPr\\\\diIstKraftGes': 'Force'\n",
    "# })\n",
    "# df_master = df_master[['Time', 'Force']]\n",
    "# df_master['Force'] = df_master['Force'].astype(str).str.replace(',', '.', regex=False)\n",
    "# df_master['Force'] = pd.to_numeric(df_master['Force'], errors='coerce')\n",
    "# df_master = df_master[df_master['Time'] != 'sec']\n",
    "# df_master['Time'] = pd.to_datetime(df_master['Time'], format='%d.%m.%Y %H:%M:%S.%f')\n",
    "\n",
    "# # Time filter and alignment\n",
    "# force_start = pd.to_datetime(master_info[\"force_start\"], format='%d.%m.%Y %H:%M:%S.%f')\n",
    "# force_end = pd.to_datetime(master_info[\"force_end\"], format='%d.%m.%Y %H:%M:%S.%f')\n",
    "# master_df = df_master[(df_master['Time'] >= force_start) & (df_master['Time'] <= force_end)].copy()\n",
    "# master_df['Time_seconds'] = (master_df['Time'] - master_df['Time'].iloc[0]).dt.total_seconds()\n",
    "\n",
    "# # Extract time and force as NumPy arrays\n",
    "# real_time = master_df['Time_seconds'].to_numpy()\n",
    "# real_force = master_df['Force'].to_numpy() /  9.80665\n",
    "\n",
    "# # Optional: resample master curve on a common time grid\n",
    "# common_time = np.linspace(0.0, real_time.max(), num=200)\n",
    "# real_force_resampled = np.interp(common_time, real_time, real_force)\n"
   ]
  },
  {
   "cell_type": "code",
   "execution_count": 3,
   "metadata": {},
   "outputs": [],
   "source": [
    "df = pd.read_csv('combined_LHS_parameters.csv')\n",
    "\n",
    "n_values = df['n'].tolist()\n",
    "tau_star_values = df['tau_star'].tolist()\n",
    "# B_values = df['B'].tolist()\n",
    "tau_w_values = df['tau_w'].tolist()\n",
    "m_values = df['m'].tolist()"
   ]
  },
  {
   "cell_type": "markdown",
   "metadata": {},
   "source": [
    "# Moldflow Simulation"
   ]
  },
  {
   "cell_type": "code",
   "execution_count": 4,
   "metadata": {},
   "outputs": [
    {
     "data": {
      "text/plain": [
       "True"
      ]
     },
     "execution_count": 4,
     "metadata": {},
     "output_type": "execute_result"
    }
   ],
   "source": [
    "Synergy = win32com.client.Dispatch(\"synergy.Synergy\")\n",
    "Synergy.SetUnits(\"Metric\")\n",
    "moldflow = \"C:\\\\Program Files\\\\Autodesk\\\\Moldflow Insight 2026\\\\bin\"                        #Home D:\\\\Moldflow Insight 2023\\\\bin       #WS \"C:\\\\Program Files\\\\Autodesk\\\\Moldflow Insight 2023\\\\bin\"  #\"G:\\\\Oskay Sözen\\\\wall_slip\\\\wall slip.mpi\"\n",
    "\n",
    "\n",
    "Synergy.OpenProject(\"G:\\\\Oskay Sözen\\\\Parameter\\\\Parameter.mpi\")\n",
    "Project = Synergy.Project\n",
    "Project.OpenItemByName(\"80CENTER_study\", \"Study\")\n",
    "\n",
    "\n",
    "\n",
    "# # #Simulation loop for wall slip parameters\n",
    "# for i in range(10):\n",
    "#     t0 = time.perf_counter()\n",
    "#     n = n_values[i]\n",
    "#     tau_star = tau_star_values[i]\n",
    "#     # B = B_values[i]\n",
    "#     tau_w = tau_w_values[i]\n",
    "#     m = m_values[i]\n",
    "\n",
    "\n",
    "#     print(f\"Simulation {i+1} with \\nn : {n}\\ntau_star : {tau_star}\\ntau_w : {tau_w}\\nm : {m}\")\n",
    "\n",
    "#     study_name = f\"study_{i+1}\"\n",
    "#     Project = Synergy.Project\n",
    "\n",
    "#     # Viscosity Parameters\n",
    "\n",
    "#     PropEd = Synergy.PropertyEditor\n",
    "#     Prop = PropEd.FindProperty(10090,1)\n",
    "#     Prop.FieldDescription(53030, f\"{n}, {tau_star}, 1.916e+6, 0.004, 0, 0, 0.305\")\n",
    "#     PropEd.CommitChanges(\"Process Conditions\")\n",
    "\n",
    "#     # Wall Slip Parameters\n",
    "\n",
    "#     PropEd = Synergy.PropertyEditor\n",
    "#     Prop = PropEd.FindProperty(10090, 1)\n",
    "#     DVec = Synergy.CreateDoubleArray\n",
    "    \n",
    "#     DVec.AddDouble(tau_w)\n",
    "#     DVec.AddDouble(m)\n",
    "#     DVec.AddDouble(1e-08)\n",
    "#     DVec.AddDouble(0)\n",
    "#     DVec.AddDouble(0)\n",
    "    \n",
    "#     Prop.FieldValues(51182, DVec)\n",
    "        \n",
    "#     PropEd.CommitChanges(\"Process Conditions\")\n",
    "\n",
    "#     StudyDoc = Synergy.StudyDoc\n",
    "#     StudyDoc.SaveAs(study_name)\n",
    "\n",
    "#     p = subprocess.Popen(\n",
    "#     [os.path.join(moldflow, \"runstudy.exe\"), f\"G:\\\\Oskay Sözen\\\\Parameter\\\\study_{i+1}.sdy\"],\n",
    "#     stdout=subprocess.PIPE,\n",
    "#     stderr=subprocess.STDOUT,\n",
    "#     )\n",
    "#     (output, err) = p.communicate()\n",
    "#     t1 = time.perf_counter(); print(\"Solver took\", t1-t0)\n",
    "#     time.sleep(3)\n",
    "\n",
    "#     # Restart of the Synergy to prevent XML saving crash\n",
    "    \n",
    "#     subprocess.run([\"taskkill\", \"/f\", \"/im\", \"airsyn_synergy.exe\"]) \n",
    "\n",
    "#     time.sleep(5)\n",
    "\n",
    "#     Synergy.OpenProject(\"G:\\\\Oskay Sözen\\\\Parameter\\\\Parameter.mpi\")         # PROJECT NAME!!!!!!!!!!!!!!!!\n",
    "#     Project = Synergy.Project\n",
    "#     Project.OpenItemByName(f\"study_{i+1}\", \"Study\")\n",
    "\n",
    "#     # Plot Export\n",
    "\n",
    "#     PlotMgr = Synergy.PlotManager\n",
    "#     time.sleep(3)\n",
    "#     Plot = PlotMgr.FindPlotByName2(\"Press force:XY Plot\", \"Press force\")\n",
    "#     Pid = Plot.GetDataID\n",
    "#     PlotMgr = None\n",
    "#     PlotMgr = Synergy.PlotManager\n",
    "#     time.sleep(3)\n",
    "#     PlotMgr.SaveResultDataInXML2( Pid, f\"H:\\\\XMLFiles\\\\study_{i + 1}.xml\", \"Metric\")\n",
    "#     t2 = time.perf_counter(); print(\"XML took\", t2-t1)\n",
    "# # Write the output to a log file\n",
    "#     with open(f\"H:\\\\Log_Files\\\\study_{i+1}.log\", \"w\") as file:\n",
    "#         file.write(output.decode(\"windows-1252\").strip())\n",
    "\n"
   ]
  },
  {
   "cell_type": "markdown",
   "metadata": {},
   "source": [
    "# XML Parsing - Guess Curves"
   ]
  },
  {
   "cell_type": "code",
   "execution_count": 5,
   "metadata": {},
   "outputs": [
    {
     "name": "stdout",
     "output_type": "stream",
     "text": [
      "{'guess_data_1': [('0.002574', '2.2930e+00'), ('0.041172', '1.6410e+00'), ('0.322550', '2.2887e+00'), ('0.745501', '2.3673e+00'), ('1.126146', '2.6595e+00'), ('1.429310', '3.6819e+00'), ('1.796299', '1.2954e+01'), ('2.079389', '1.4126e+01'), ('2.434584', '1.4714e+01'), ('2.887878', '1.5541e+01'), ('3.264068', '1.6613e+01'), ('3.568892', '1.7559e+01'), ('3.920182', '1.8442e+01'), ('4.206748', '1.9425e+01'), ('4.584613', '2.0393e+01'), ('4.887459', '2.1580e+01'), ('5.239764', '2.2905e+01'), ('5.523669', '2.5264e+01'), ('5.834966', '2.9310e+01'), ('6.137529', '4.0502e+01'), ('6.410882', '4.9608e+01'), ('6.679507', '5.3110e+01'), ('6.936635', '5.5917e+01'), ('7.074174', '6.4344e+01'), ('7.149768', '1.1868e+02'), ('7.178360', '1.4239e+02'), ('7.184859', '1.4200e+02'), ('7.188359', '1.4200e+02'), ('7.189359', '1.4200e+02'), ('7.191360', '1.4200e+02')], 'guess_data_2': [('0.002574', '2.8975e+00'), ('0.045178', '2.2801e+00'), ('0.355761', '3.1863e+00'), ('0.698280', '3.2608e+00'), ('1.109225', '3.5590e+00'), ('1.536373', '5.4029e+00'), ('1.968577', '1.3618e+01'), ('2.271311', '1.4303e+01'), ('2.681837', '1.4922e+01'), ('2.989177', '1.5753e+01'), ('3.389749', '1.6515e+01'), ('3.748609', '1.7417e+01'), ('4.037916', '1.8195e+01'), ('4.384986', '1.9049e+01'), ('4.659935', '2.0039e+01'), ('5.039889', '2.0989e+01'), ('5.331247', '2.2879e+01'), ('5.644591', '2.6124e+01'), ('5.940375', '3.3040e+01'), ('6.223799', '4.1153e+01'), ('6.496669', '5.0022e+01'), ('6.765833', '5.7402e+01'), ('6.915571', '6.6262e+01'), ('7.049364', '7.4423e+01'), ('7.128884', '8.9308e+01'), ('7.157475', '1.4282e+02'), ('7.167475', '1.4200e+02'), ('7.168475', '1.4200e+02'), ('7.170475', '1.4200e+02'), ('7.174475', '1.4200e+02')], 'guess_data_3': [('0.002574', '5.5659e+00'), ('0.050876', '3.4870e+00'), ('0.402999', '5.0400e+00'), ('0.765013', '5.4113e+00'), ('1.189265', '6.7400e+00'), ('1.609407', '1.5446e+01'), ('2.050708', '6.3863e+01'), ('2.403847', '7.1458e+01'), ('2.838768', '6.2157e+01'), ('3.182394', '5.4889e+01'), ('3.466132', '4.6445e+01'), ('3.861580', '4.1911e+01'), ('4.198178', '4.4118e+01'), ('4.476646', '4.5467e+01'), ('4.831128', '5.2894e+01'), ('5.160667', '6.9941e+01'), ('5.458510', '7.9628e+01'), ('5.717360', '9.3016e+01'), ('5.994062', '1.0145e+02'), ('6.272505', '1.2317e+02'), ('6.545351', '1.3322e+02'), ('6.794344', '1.3550e+02'), ('6.926229', '1.3181e+02'), ('7.067801', '1.2556e+02'), ('7.138460', '1.3244e+02'), ('7.211032', '1.9801e+02'), ('7.248010', '2.0000e+02'), ('7.258009', '2.0000e+02'), ('7.259009', '2.0000e+02'), ('7.261010', '2.0000e+02')], 'guess_data_4': [('0.002574', '5.4817e+00'), ('0.052460', '3.3366e+00'), ('0.416130', '4.8585e+00'), ('0.787300', '5.2065e+00'), ('1.159850', '6.6427e+00'), ('1.532571', '8.9501e+00'), ('1.940815', '3.0016e+01'), ('2.230971', '1.0311e+01'), ('2.631912', '8.4598e+00'), ('3.000542', '8.0805e+00'), ('3.300389', '8.1208e+00'), ('3.677014', '7.8832e+00'), ('3.969182', '8.0342e+00'), ('4.344999', '7.8041e+00'), ('4.676042', '8.4783e+00'), ('4.975460', '9.2034e+00'), ('5.340125', '1.0199e+01'), ('5.624647', '1.2124e+01'), ('5.944546', '1.2254e+01'), ('6.249932', '1.3822e+01'), ('6.602517', '1.7346e+01'), ('6.906615', '2.9930e+01'), ('7.074183', '8.3137e+01'), ('7.156826', '1.0776e+02'), ('7.218693', '1.9867e+02'), ('7.248539', '2.0000e+02'), ('7.258539', '2.0000e+02'), ('7.259539', '2.0000e+02'), ('7.261539', '2.0000e+02'), ('7.265539', '2.0000e+02')], 'guess_data_5': [('0.002574', '3.0901e+00'), ('0.045498', '2.1121e+00'), ('0.358412', '2.8380e+00'), ('0.704952', '2.8811e+00'), ('1.132704', '3.9499e+00'), ('1.421964', '4.5318e+00'), ('1.895230', '6.7516e+00'), ('2.262610', '5.8604e+00'), ('2.720777', '5.2237e+00'), ('3.064469', '5.2101e+00'), ('3.391293', '4.8278e+00'), ('3.695256', '4.4637e+00'), ('4.047471', '4.1707e+00'), ('4.350743', '4.3346e+00'), ('4.730093', '4.4029e+00'), ('5.033557', '4.8034e+00'), ('5.405273', '5.1650e+00'), ('5.681082', '6.1703e+00'), ('6.026856', '7.7844e+00'), ('6.268826', '1.0147e+01'), ('6.590520', '1.3108e+01'), ('6.858092', '1.6568e+01'), ('6.984676', '2.4531e+01'), ('7.069980', '3.0355e+01'), ('7.145331', '4.9462e+01'), ('7.173922', '1.0195e+02'), ('7.176221', '8.2179e+01'), ('7.180819', '9.9606e+01'), ('7.183922', '1.2561e+02'), ('7.184922', '1.3159e+02')], 'guess_data_6': [('0.002574', '5.2864e+00'), ('0.054218', '3.5654e+00'), ('0.430705', '5.1799e+00'), ('0.789130', '5.5406e+00'), ('1.191610', '6.7129e+00'), ('1.477581', '1.1084e+01'), ('1.816572', '4.9518e+01'), ('2.148457', '3.6262e+01'), ('2.583519', '2.2885e+01'), ('2.844465', '1.9130e+01'), ('3.255674', '1.8565e+01'), ('3.603415', '1.9712e+01'), ('3.870638', '2.0125e+01'), ('4.269350', '2.1628e+01'), ('4.601715', '2.4714e+01'), ('4.866604', '2.6734e+01'), ('5.225148', '3.1426e+01'), ('5.553886', '4.5708e+01'), ('5.840903', '5.8871e+01'), ('6.098388', '6.0208e+01'), ('6.394443', '6.0591e+01'), ('6.668482', '7.1448e+01'), ('6.896750', '6.7665e+01'), ('7.022822', '5.7624e+01'), ('7.101440', '7.1341e+01'), ('7.175632', '1.3413e+02'), ('7.204223', '1.4215e+02'), ('7.210723', '1.4200e+02'), ('7.214223', '1.4200e+02'), ('7.215223', '1.4200e+02')], 'guess_data_7': [('0.002574', '4.4714e+00'), ('0.050804', '3.1331e+00'), ('0.402400', '4.4899e+00'), ('0.764055', '4.7728e+00'), ('1.184923', '5.5091e+00'), ('1.594317', '1.1231e+01'), ('2.065334', '3.5241e+01'), ('2.412158', '1.7003e+01'), ('2.856537', '1.2104e+01'), ('3.245145', '1.1579e+01'), ('3.597960', '1.0986e+01'), ('3.892094', '1.1467e+01'), ('4.251691', '1.2427e+01'), ('4.546111', '1.4280e+01'), ('4.897357', '1.5147e+01'), ('5.171763', '1.6960e+01'), ('5.544065', '1.9988e+01'), ('5.857251', '2.6307e+01'), ('6.127326', '3.4338e+01'), ('6.405921', '3.6984e+01'), ('6.647690', '4.1517e+01'), ('6.933976', '3.9862e+01'), ('7.061033', '4.6740e+01'), ('7.142046', '6.8125e+01'), ('7.170638', '1.2145e+02'), ('7.172872', '9.2785e+01'), ('7.177340', '1.1214e+02'), ('7.180637', '1.2808e+02'), ('7.181637', '1.3486e+02'), ('7.183638', '1.3382e+02')], 'guess_data_8': [('0.002574', '3.5349e+00'), ('0.049417', '2.6481e+00'), ('0.390906', '3.7437e+00'), ('0.746194', '3.9549e+00'), ('1.154340', '4.3153e+00'), ('1.551903', '7.3390e+00'), ('1.964761', '2.0567e+01'), ('2.291221', '2.1841e+01'), ('2.732742', '2.2875e+01'), ('3.085050', '2.4345e+01'), ('3.397983', '2.5637e+01'), ('3.716387', '2.6905e+01'), ('4.076179', '2.8106e+01'), ('4.349716', '2.9710e+01'), ('4.718715', '3.1112e+01'), ('5.006844', '3.2991e+01'), ('5.394219', '3.5366e+01'), ('5.714647', '4.1237e+01'), ('6.021281', '5.4352e+01'), ('6.308951', '7.1079e+01'), ('6.585076', '8.8007e+01'), ('6.858233', '1.0313e+02'), ('6.993405', '1.1185e+02'), ('7.053409', '1.1814e+02'), ('7.107699', '1.1917e+02'), ('7.182366', '1.4092e+02'), ('7.227525', '1.4200e+02'), ('7.237525', '1.4200e+02'), ('7.238525', '1.4200e+02'), ('7.240525', '1.4200e+02')], 'guess_data_9': [('0.002574', '2.9704e+00'), ('0.041172', '1.9045e+00'), ('0.322550', '2.6758e+00'), ('0.746154', '2.7850e+00'), ('1.129163', '3.2518e+00'), ('1.414941', '4.5771e+00'), ('1.814264', '1.9840e+01'), ('2.190530', '2.2300e+01'), ('2.655714', '2.3558e+01'), ('3.018286', '2.5334e+01'), ('3.333495', '2.6873e+01'), ('3.641680', '2.8281e+01'), ('3.988233', '2.9768e+01'), ('4.289515', '3.1447e+01'), ('4.638206', '3.3317e+01'), ('4.909023', '3.5273e+01'), ('5.302462', '3.7454e+01'), ('5.602026', '4.1823e+01'), ('5.892286', '4.8823e+01'), ('6.192584', '7.0328e+01'), ('6.456582', '9.8875e+01'), ('6.743072', '1.2773e+02'), ('7.021743', '1.4098e+02'), ('7.200775', '1.4200e+02'), ('7.401509', '1.4200e+02'), ('7.494697', '1.4200e+02'), ('7.504697', '1.4200e+02'), ('7.505697', '1.4200e+02'), ('7.507697', '1.4200e+02'), ('7.511697', '1.4200e+02')], 'guess_data_10': [('0.002574', '4.1734e+00'), ('0.050768', '2.7970e+00'), ('0.402105', '4.0387e+00'), ('0.763700', '4.3192e+00'), ('1.186038', '5.1614e+00'), ('1.602731', '1.1119e+01'), ('2.064057', '4.1617e+01'), ('2.431229', '4.6299e+01'), ('2.857769', '4.6203e+01'), ('3.210164', '4.4549e+01'), ('3.488739', '4.0719e+01'), ('3.884515', '3.6154e+01'), ('4.200488', '3.5158e+01'), ('4.502708', '3.5402e+01'), ('4.803724', '3.5900e+01'), ('5.090688', '4.3455e+01'), ('5.385492', '4.9288e+01'), ('5.667998', '6.4916e+01'), ('5.933499', '7.0331e+01'), ('6.199096', '8.1586e+01'), ('6.425376', '8.2655e+01'), ('6.668398', '8.0182e+01'), ('6.903083', '8.7466e+01'), ('7.034710', '9.7879e+01'), ('7.103940', '1.0156e+02'), ('7.178723', '1.4088e+02'), ('7.207314', '1.4200e+02'), ('7.213814', '1.4200e+02'), ('7.217314', '1.4200e+02'), ('7.218314', '1.4200e+02')]}\n"
     ]
    }
   ],
   "source": [
    "guess_disp_data_all = {}\n",
    "guess_force_data_all = {}\n",
    "area_data = []\n",
    "guess_data_all = {}\n",
    "\n",
    "valid_xml = []\n",
    "for i in range(10):\n",
    "        guess_tree = ET.parse(f\"H:\\\\XMLFiles\\\\study_{i + 1}.xml\")\n",
    "        guess_root = guess_tree.getroot()\n",
    "        guess_data = []\n",
    "\n",
    "        count = 0\n",
    "                \n",
    "        for time_block, dept_block in zip(guess_root.findall('.//Block//IndpVar'), guess_root.findall('.//Block')):\n",
    "                if count >= 30:\n",
    "                        break\n",
    "\n",
    "\n",
    "                time_value = time_block.attrib.get('Value')\n",
    "                dept_value = dept_block.find('DeptValues').text.strip()\n",
    "                \n",
    "                guess_data.append((time_value, dept_value))\n",
    "\n",
    "                count += 1\n",
    "        if len(guess_data) < 30:\n",
    "                print(f\"Warning: File {i+1} has incomplete or corrupted data (only {len(guess_data)} entries). Skipping.\")\n",
    "                continue\n",
    "\n",
    "        guess_data_all[f\"guess_data_{i+1}\"] = guess_data\n",
    "\n",
    "        guess_data_array = np.array([(float(x), float(y)) for x, y in guess_data])\n",
    "        guess_time = guess_data_array[:, 0]  \n",
    "        guess_disp = guess_data_array[:, 1] * 9.80665\n",
    "\n",
    "        globals()[f\"guess_time_{i+1}\"] = guess_time\n",
    "        globals()[f\"guess_disp_{i+1}\"] = guess_disp \n",
    "\n",
    "\n",
    "        mean_s_error = calculate_area_between_curves(real_time, real_disp, guess_time, guess_disp)\n",
    "        area_data.append(mean_s_error)\n",
    "        valid_xml.append(len(area_data) - 1)\n",
    "\n",
    "        \n",
    "print(guess_data_all)"
   ]
  },
  {
   "cell_type": "code",
   "execution_count": 6,
   "metadata": {},
   "outputs": [
    {
     "name": "stdout",
     "output_type": "stream",
     "text": [
      "[np.float64(18928.77133050996), np.float64(20243.904851410032), np.float64(328308.0438612676), np.float64(9814.09821792706), np.float64(2788.480869154951), np.float64(58980.57386895382), np.float64(10162.904295633145), np.float64(85133.62627918331), np.float64(130917.03767009871), np.float64(130853.40100184083)]\n",
      "['guess_data_1', 'guess_data_2', 'guess_data_3', 'guess_data_4', 'guess_data_5', 'guess_data_6', 'guess_data_7', 'guess_data_8', 'guess_data_9', 'guess_data_10']\n",
      "guess_data_1: Shape = (30, 2)\n",
      "guess_data_2: Shape = (30, 2)\n",
      "guess_data_3: Shape = (30, 2)\n",
      "guess_data_4: Shape = (30, 2)\n",
      "guess_data_5: Shape = (30, 2)\n",
      "guess_data_6: Shape = (30, 2)\n",
      "guess_data_7: Shape = (30, 2)\n",
      "guess_data_8: Shape = (30, 2)\n",
      "guess_data_9: Shape = (30, 2)\n",
      "guess_data_10: Shape = (30, 2)\n"
     ]
    }
   ],
   "source": [
    "print(area_data)\n",
    "print(list(guess_data_all.keys()))\n",
    "for name, lst in guess_data_all.items():\n",
    "    array = np.array(lst)\n",
    "    print(f\"{name}: Shape = {array.shape}\")"
   ]
  },
  {
   "cell_type": "code",
   "execution_count": 7,
   "metadata": {},
   "outputs": [
    {
     "data": {
      "image/png": "[encoded data removed]",
      "text/plain": [
       "<Figure size 1000x600 with 1 Axes>"
      ]
     },
     "metadata": {},
     "output_type": "display_data"
    }
   ],
   "source": [
    "common_time = np.linspace(0.0, max(real_time.max(), guess_time.max()), num=200)\n",
    "real_force_resampled = np.interp(common_time, real_time, real_disp)\n",
    "\n",
    "num_curves = len(guess_data_all)\n",
    "colormap = plt.get_cmap('viridis')\n",
    "\n",
    "plt.figure(figsize=(10, 6))\n",
    "\n",
    "for i, (key, guess_data) in enumerate(guess_data_all.items(), start=1):\n",
    "    if isinstance(guess_data[0], (list, tuple)) and len(guess_data[0]) == 2:\n",
    "        guess_data_array = np.array([(float(x), float(y)) for x, y in guess_data])\n",
    "        guess_time = guess_data_array[:, 0]\n",
    "        guess_force = guess_data_array[:, 1] * 9.80665\n",
    "\n",
    "    guess_force_resampled = np.interp(common_time, guess_time, guess_force)\n",
    "    color = colormap((i - 1) / max(num_curves - 1, 1))\n",
    "    plt.plot(common_time, guess_force_resampled, color=color, label=f'Guess_{i}')\n",
    "\n",
    "plt.plot(common_time, real_force_resampled, 'b-', label='Real Curve', linewidth=2)\n",
    "\n",
    "plt.xlabel('Time (s)')\n",
    "plt.ylabel('Force (kN)')\n",
    "plt.title('Force vs Time (Guess vs Real)')\n",
    "plt.legend(loc='upper left', bbox_to_anchor=(1.05, 1), borderaxespad=0.)\n",
    "plt.grid(True)\n",
    "plt.tight_layout()\n",
    "plt.show()\n"
   ]
  },
  {
   "cell_type": "markdown",
   "metadata": {},
   "source": [
    "# GP Model"
   ]
  },
  {
   "cell_type": "code",
   "execution_count": 10,
   "metadata": {},
   "outputs": [],
   "source": [
    "file_path = 'H:\\\\moldflow\\\\moldflow_automation\\\\combined_LHS_parameters.csv'\n",
    "data = pd.read_csv(file_path)\n",
    "n_values = data['n'].values\n",
    "tau_star_values = data['tau_star'].values\n",
    "# B_values = data['B'].values\n",
    "tau_w_values = data['tau_w'].values\n",
    "m_values = data['m'].values\n",
    "\n",
    "train_x = torch.tensor([[n_values[i], tau_star_values[i], tau_w_values[i], m_values[i]] for i in valid_xml ], dtype=torch.float64)\n",
    "train_y = - torch.tensor([[area_data[i]] for i in valid_xml], dtype=torch.float64)\n",
    "train_yvar = torch.full_like(train_y, 1e-6)\n",
    "\n",
    "\n",
    "\n",
    "# bounds = torch.tensor([\n",
    "#     [0.2, 10000.0, 0.005, 1.0],\n",
    "#     [0.8, 80000.0, 1.0, 1.9]\n",
    "# ], dtype= torch.float64\n",
    "# )\n",
    "\n",
    "# outcome_transform = Standardize(m=1)\n",
    "# input_transform = Normalize(d=4)\n",
    "\n",
    "# # GP Model \n",
    "# model = SingleTaskGP(train_x, train_y,train_Yvar=train_yvar, outcome_transform=outcome_transform, input_transform=input_transform)\n",
    "# mll = ExactMarginalLogLikelihood(model.likelihood, model)\n",
    "# fit_gpytorch_mll(mll)\n",
    "# model.eval()  \n",
    "\n",
    "\n",
    "# acq_func =  LogExpectedImprovement(model, best_f=train_y.max().item())\n",
    "\n",
    "# candidate, _ = optimize_acqf(\n",
    "#         acq_function=acq_func,\n",
    "#         bounds=bounds,\n",
    "#         q=1,\n",
    "#         num_restarts=1000, #Helps to ensure that we find the global optimum instead of finding the local optimum\n",
    "#         raw_samples=5000,  #More samples increases likelihood of finding good starting point.\n",
    "# )\n",
    "\n",
    "# cand = model(input_transform(candidate))\n",
    "# cand_var = torch.diagonal(cand.covariance_matrix, 0)\n",
    "# cand_mean, cand_std = outcome_transform.untransform(cand.mean, cand_var)\n"
   ]
  },
  {
   "cell_type": "code",
   "execution_count": null,
   "metadata": {},
   "outputs": [],
   "source": [
    "print(candidate)\n",
    "print(train_y)\n",
    "print(train_x)\n",
    "bounds.shape"
   ]
  },
  {
   "cell_type": "markdown",
   "metadata": {},
   "source": [
    "# Optimization CHECK CANDIDATE\n"
   ]
  },
  {
   "cell_type": "code",
   "execution_count": null,
   "metadata": {},
   "outputs": [],
   "source": [
    "guess_data_all_optim = {}\n",
    "num_iteration = 30\n",
    "iterations=[]\n",
    "\n",
    "for i in range(num_iteration):\n",
    "    outcome_transform = Standardize(m=1)\n",
    "    input_transform = Normalize(d=4)\n",
    "\n",
    "    model = SingleTaskGP(train_x, train_y,train_Yvar=train_yvar, outcome_transform=outcome_transform, input_transform=input_transform)\n",
    "    mll = ExactMarginalLogLikelihood(model.likelihood, model)\n",
    "    fit_gpytorch_mll(mll)\n",
    "    model.eval()  \n",
    "\n",
    "    acq_func =  LogExpectedImprovement(model, best_f=train_y.max())\n",
    "\n",
    "\n",
    "    candidate_optim, _ = optimize_acqf(\n",
    "            acq_function=acq_func,\n",
    "            bounds=bounds,\n",
    "            q=1,\n",
    "            num_restarts=100, #Helps to ensure that we find the global optimum instead of finding the local optimum\n",
    "            raw_samples=5000,  #More samples increases likelihood of finding good starting point.\n",
    "    )\n",
    "\n",
    "    print(f\"Iteration {i+1}: Suggested new parameters (n, tau_star, B, tau_w, m)\", candidate_optim)\n",
    "    iterations.append(candidate_optim)\n",
    "\n",
    "    study_name = f\"optimization_{i+1}\"\n",
    "    Project = Synergy.Project\n",
    "\n",
    "    # Viscosity Parameters\n",
    "\n",
    "    PropEd = Synergy.PropertyEditor\n",
    "    Prop = PropEd.FindProperty(10090,1)\n",
    "    Prop.FieldDescription(53030, f\"{candidate_optim[0,0].item()}, {candidate_optim[0,1].item()}, 1.916e+6, 0.004, 0, 0, 0.305\")\n",
    "    PropEd.CommitChanges(\"Process Conditions\")\n",
    "\n",
    "    # Wall Slip Parameters\n",
    "\n",
    "    PropEd = Synergy.PropertyEditor\n",
    "    Prop = PropEd.FindProperty(10090, 1)\n",
    "    DVec = Synergy.CreateDoubleArray\n",
    "    \n",
    "    DVec.AddDouble(candidate_optim[0,2].item())\n",
    "    DVec.AddDouble(candidate_optim[0,3].item())\n",
    "    DVec.AddDouble(1e-08)\n",
    "    DVec.AddDouble(0)\n",
    "    DVec.AddDouble(0)\n",
    "    \n",
    "    Prop.FieldValues(51182, DVec)\n",
    "        \n",
    "    PropEd.CommitChanges(\"Process Conditions\")\n",
    "\n",
    "    StudyDoc = Synergy.StudyDoc\n",
    "    StudyDoc.SaveAs(study_name)\n",
    "\n",
    "    p = subprocess.Popen(\n",
    "    [os.path.join(moldflow, \"runstudy.exe\"), f\"G:\\\\Oskay Sözen\\\\Parameter\\\\optimization_{i+1}.sdy\"],\n",
    "    stdout=subprocess.PIPE,\n",
    "    stderr=subprocess.STDOUT,\n",
    "    )\n",
    "    (output, err) = p.communicate()\n",
    "\n",
    "    time.sleep(2)\n",
    "\n",
    "    Synergy.OpenProject(\"G:\\\\Oskay Sözen\\\\Parameter\\\\Parameter.mpi\")         # PROJECT NAME!!!!!!!!!!!!!!!!\n",
    "    Project = Synergy.Project\n",
    "    Project.OpenItemByName(f\"optimization_{i+1}\", \"Study\")\n",
    "\n",
    "    # Plot Export\n",
    "\n",
    "    PlotMgr = Synergy.PlotManager\n",
    "    time.sleep(2)\n",
    "    Plot = PlotMgr.FindPlotByName2(\"Press force:XY Plot\", \"Press force\")\n",
    "    Pid = Plot.GetDataID\n",
    "    PlotMgr = None\n",
    "    PlotMgr = Synergy.PlotManager\n",
    "    time.sleep(2)\n",
    "    PlotMgr.SaveResultDataInXML2( Pid, f\"H:\\\\XMLFiles\\\\optimization_{i + 1}.xml\", \"Metric\")\n",
    "\n",
    "\n",
    "\n",
    "# Write the output to a log file\n",
    "    with open(f\"H:\\\\Log_Files\\\\optimization_{i+1}.log\", \"w\") as file:\n",
    "        file.write(output.decode(\"windows-1252\").strip())\n",
    "\n",
    "    guess_tree = ET.parse(f\"H:\\\\XMLFiles\\\\optimization_{i+1}.xml\")\n",
    "    guess_root = guess_tree.getroot()\n",
    "    guess_data = []\n",
    "    time.sleep(1) \n",
    "    count = 0   \n",
    "    for time_block, dept_block in zip(guess_root.findall('.//Block//IndpVar'), guess_root.findall('.//Block')):\n",
    "        if count >= 30:\n",
    "            break\n",
    "        \n",
    "        time_value = time_block.attrib.get('Value')\n",
    "        dept_value = dept_block.find('DeptValues').text.strip()\n",
    "        guess_data.append((time_value, dept_value))\n",
    "\n",
    "        count += 1\n",
    "    if len(guess_data) < 30:\n",
    "        print(f\"Warning: File {i+1} has incomplete or corrupted data (only {len(guess_data)} entries). Skipping.\")\n",
    "        continue\n",
    "    guess_data_all_optim[f\"guess_data_{i+1}\"] = guess_data\n",
    "\n",
    "    guess_data_array = np.array([(float(x), float(y)) for x, y in guess_data])\n",
    "    guess_time = guess_data_array[:, 0]  \n",
    "    guess_disp = guess_data_array[:, 1]  * 9.80665\n",
    "        \n",
    "    globals()[f\"guess_time_{5 + num_iteration}\"] = guess_time\n",
    "    globals()[f\"guess_disp_{5 + num_iteration}\"] = guess_disp\n",
    "    \n",
    "    mean_s_error = calculate_area_between_curves(real_time, real_disp, guess_time, guess_disp)\n",
    "    area_data.append(mean_s_error)\n",
    "    valid_xml.append(len(area_data) - 1)\n",
    "\n",
    "    # New Values\n",
    "\n",
    "    train_x = torch.cat([train_x, candidate_optim], dim=0)\n",
    "    train_y = torch.cat([train_y, -torch.tensor([[area_data[-1]]])], dim=0)\n",
    "    train_yvar = torch.full_like(train_y, 1e-6)\n",
    "\n",
    "    current_best_area = train_y.max().item()\n",
    "\n",
    "    if abs(current_best_area) < 1e-2:\n",
    "        print(f\"Converged after {i+1} iteration\")\n",
    "        break\n",
    "    \n",
    "best_params = train_x[train_y.argmax()]\n",
    "best_area = train_y.max().item()\n",
    "print(f\"Best parameters (n, tau_star, B, tau_w, m): {best_params}, with MSE : {best_area}\")\n",
    "\n",
    "\n",
    "\n"
   ]
  },
  {
   "cell_type": "code",
   "execution_count": null,
   "metadata": {},
   "outputs": [],
   "source": [
    "num_curves = len(guess_data_all)\n",
    "colormap = plt.get_cmap('viridis')\n",
    "\n",
    "plt.figure(figsize=(10, 6))\n",
    "\n",
    "for i, (key, guess_data) in enumerate(guess_data_all.items(), start=1):\n",
    "    if isinstance(guess_data[0], (list, tuple)) and len(guess_data[0]) == 2:\n",
    "        guess_data_array = np.array([(float(x), float(y)) for x, y in guess_data])\n",
    "        guess_time = guess_data_array[:, 0]\n",
    "        guess_force = guess_data_array[:, 1] * 9.80665\n",
    "\n",
    "    guess_force_resampled = np.interp(common_time, guess_time, guess_force)\n",
    "    color = colormap((i - 1) / max(num_curves - 1, 1))\n",
    "    plt.plot(common_time, guess_force_resampled, color=color, label=f'Guess_{i}')\n",
    "\n",
    "plt.plot(common_time, real_force_resampled, 'b-', label='Real Curve', linewidth=2)\n",
    "\n",
    "plt.xlabel('Time (s)')\n",
    "plt.ylabel('Force (kN)')\n",
    "plt.title('Force vs Time (Guess vs Real)')\n",
    "plt.legend(loc='upper left', bbox_to_anchor=(1.05, 1), borderaxespad=0.)\n",
    "plt.grid(True)\n",
    "plt.tight_layout()\n",
    "plt.show()"
   ]
  },
  {
   "cell_type": "code",
   "execution_count": null,
   "metadata": {},
   "outputs": [],
   "source": [
    "\n",
    "num_curves = len(guess_data_all_optim)\n",
    "colormap = plt.get_cmap('viridis', num_curves)  \n",
    "plt.plot(common_time, guess_force_resampled, 'b-', label='Real Curve')\n",
    "for i, (key, guess_data) in enumerate(guess_data_all_optim.items()):\n",
    "    if isinstance(guess_data[0], (list, tuple)) and len(guess_data[0]) == 2:\n",
    "        guess_data_array = np.array([(float(x), float(y)) for x, y in guess_data])\n",
    "        guess_time = guess_data_array[:, 0]\n",
    "        guess_disp = guess_data_array[:, 1]\n",
    "\n",
    "        guess_disp_resampled = np.interp(common_time, guess_time, guess_disp)\n",
    "\n",
    "        color = colormap(i) \n",
    "        plt.plot(common_time, guess_disp_resampled, color=color, label=f'Guess_{i+1}')\n",
    "\n",
    "# Finalize plot\n",
    "plt.legend(loc='best')\n",
    "plt.xlabel('Time (s)')\n",
    "plt.ylabel('Force')\n",
    "plt.title('Force vs Time (Optimized Curves)')\n",
    "plt.grid(True)\n",
    "plt.legend(loc='upper left', bbox_to_anchor=(1.05, 1), borderaxespad=0.)\n",
    "plt.tight_layout()  \n",
    "plt.show()"
   ]
  },
  {
   "cell_type": "code",
   "execution_count": 11,
   "metadata": {},
   "outputs": [
    {
     "name": "stderr",
     "output_type": "stream",
     "text": [
      "c:\\Users\\sozenosk\\AppData\\Local\\miniforge3\\Lib\\site-packages\\gpytorch\\likelihoods\\noise_models.py:150: NumericalWarning: Very small noise values detected. This will likely lead to numerical instabilities. Rounding small noise values up to 1e-06.\n",
      "  warnings.warn(\n"
     ]
    },
    {
     "name": "stdout",
     "output_type": "stream",
     "text": [
      "Iteration 1: Suggested parameters tensor([[3.0205e-01, 6.5647e+04, 9.4458e-01, 1.7372e+00]])\n"
     ]
    },
    {
     "name": "stderr",
     "output_type": "stream",
     "text": [
      "c:\\Users\\sozenosk\\AppData\\Local\\miniforge3\\Lib\\site-packages\\gpytorch\\likelihoods\\noise_models.py:150: NumericalWarning: Very small noise values detected. This will likely lead to numerical instabilities. Rounding small noise values up to 1e-06.\n",
      "  warnings.warn(\n"
     ]
    },
    {
     "name": "stdout",
     "output_type": "stream",
     "text": [
      "Iteration 2: Suggested parameters tensor([[2.9624e-01, 7.9616e+04, 8.9737e-01, 1.6980e+00]])\n"
     ]
    },
    {
     "name": "stderr",
     "output_type": "stream",
     "text": [
      "c:\\Users\\sozenosk\\AppData\\Local\\miniforge3\\Lib\\site-packages\\gpytorch\\likelihoods\\noise_models.py:150: NumericalWarning: Very small noise values detected. This will likely lead to numerical instabilities. Rounding small noise values up to 1e-06.\n",
      "  warnings.warn(\n"
     ]
    },
    {
     "name": "stdout",
     "output_type": "stream",
     "text": [
      "Iteration 3: Suggested parameters tensor([[2.3930e-01, 7.8073e+04, 7.8570e-01, 1.8884e+00]])\n"
     ]
    },
    {
     "name": "stderr",
     "output_type": "stream",
     "text": [
      "c:\\Users\\sozenosk\\AppData\\Local\\miniforge3\\Lib\\site-packages\\gpytorch\\likelihoods\\noise_models.py:150: NumericalWarning: Very small noise values detected. This will likely lead to numerical instabilities. Rounding small noise values up to 1e-06.\n",
      "  warnings.warn(\n"
     ]
    },
    {
     "name": "stdout",
     "output_type": "stream",
     "text": [
      "Iteration 4: Suggested parameters tensor([[2.2711e-01, 7.6961e+04, 7.7822e-01, 1.9000e+00]])\n"
     ]
    },
    {
     "name": "stderr",
     "output_type": "stream",
     "text": [
      "c:\\Users\\sozenosk\\AppData\\Local\\miniforge3\\Lib\\site-packages\\gpytorch\\likelihoods\\noise_models.py:150: NumericalWarning: Very small noise values detected. This will likely lead to numerical instabilities. Rounding small noise values up to 1e-06.\n",
      "  warnings.warn(\n"
     ]
    },
    {
     "name": "stdout",
     "output_type": "stream",
     "text": [
      "Iteration 5: Suggested parameters tensor([[2.8235e-01, 7.7171e+04, 9.2411e-01, 1.9000e+00]])\n"
     ]
    },
    {
     "name": "stderr",
     "output_type": "stream",
     "text": [
      "c:\\Users\\sozenosk\\AppData\\Local\\miniforge3\\Lib\\site-packages\\gpytorch\\likelihoods\\noise_models.py:150: NumericalWarning: Very small noise values detected. This will likely lead to numerical instabilities. Rounding small noise values up to 1e-06.\n",
      "  warnings.warn(\n"
     ]
    },
    {
     "name": "stdout",
     "output_type": "stream",
     "text": [
      "Iteration 6: Suggested parameters tensor([[2.8121e-01, 7.5275e+04, 9.4268e-01, 1.9000e+00]])\n"
     ]
    },
    {
     "name": "stderr",
     "output_type": "stream",
     "text": [
      "c:\\Users\\sozenosk\\AppData\\Local\\miniforge3\\Lib\\site-packages\\gpytorch\\likelihoods\\noise_models.py:150: NumericalWarning: Very small noise values detected. This will likely lead to numerical instabilities. Rounding small noise values up to 1e-06.\n",
      "  warnings.warn(\n"
     ]
    },
    {
     "name": "stdout",
     "output_type": "stream",
     "text": [
      "Iteration 7: Suggested parameters tensor([[2.9540e-01, 7.4283e+04, 1.0000e+00, 1.9000e+00]])\n"
     ]
    },
    {
     "name": "stderr",
     "output_type": "stream",
     "text": [
      "c:\\Users\\sozenosk\\AppData\\Local\\miniforge3\\Lib\\site-packages\\gpytorch\\likelihoods\\noise_models.py:150: NumericalWarning: Very small noise values detected. This will likely lead to numerical instabilities. Rounding small noise values up to 1e-06.\n",
      "  warnings.warn(\n"
     ]
    },
    {
     "name": "stdout",
     "output_type": "stream",
     "text": [
      "Iteration 8: Suggested parameters tensor([[2.9555e-01, 7.8579e+04, 1.0000e+00, 1.9000e+00]])\n"
     ]
    },
    {
     "name": "stderr",
     "output_type": "stream",
     "text": [
      "c:\\Users\\sozenosk\\AppData\\Local\\miniforge3\\Lib\\site-packages\\gpytorch\\likelihoods\\noise_models.py:150: NumericalWarning: Very small noise values detected. This will likely lead to numerical instabilities. Rounding small noise values up to 1e-06.\n",
      "  warnings.warn(\n"
     ]
    },
    {
     "name": "stdout",
     "output_type": "stream",
     "text": [
      "Iteration 9: Suggested parameters tensor([[4.2406e-01, 7.2944e+04, 1.1576e-01, 1.9000e+00]])\n"
     ]
    },
    {
     "name": "stderr",
     "output_type": "stream",
     "text": [
      "c:\\Users\\sozenosk\\AppData\\Local\\miniforge3\\Lib\\site-packages\\gpytorch\\likelihoods\\noise_models.py:150: NumericalWarning: Very small noise values detected. This will likely lead to numerical instabilities. Rounding small noise values up to 1e-06.\n",
      "  warnings.warn(\n"
     ]
    },
    {
     "name": "stdout",
     "output_type": "stream",
     "text": [
      "Iteration 10: Suggested parameters tensor([[4.4022e-01, 7.9393e+04, 1.1373e-01, 1.9000e+00]])\n"
     ]
    },
    {
     "name": "stderr",
     "output_type": "stream",
     "text": [
      "c:\\Users\\sozenosk\\AppData\\Local\\miniforge3\\Lib\\site-packages\\gpytorch\\likelihoods\\noise_models.py:150: NumericalWarning: Very small noise values detected. This will likely lead to numerical instabilities. Rounding small noise values up to 1e-06.\n",
      "  warnings.warn(\n"
     ]
    },
    {
     "name": "stdout",
     "output_type": "stream",
     "text": [
      "Iteration 11: Suggested parameters tensor([[4.5343e-01, 7.8368e+04, 1.1107e-01, 1.9000e+00]])\n"
     ]
    },
    {
     "name": "stderr",
     "output_type": "stream",
     "text": [
      "c:\\Users\\sozenosk\\AppData\\Local\\miniforge3\\Lib\\site-packages\\gpytorch\\likelihoods\\noise_models.py:150: NumericalWarning: Very small noise values detected. This will likely lead to numerical instabilities. Rounding small noise values up to 1e-06.\n",
      "  warnings.warn(\n"
     ]
    },
    {
     "name": "stdout",
     "output_type": "stream",
     "text": [
      "Iteration 12: Suggested parameters tensor([[4.5916e-01, 7.9695e+04, 1.1079e-01, 1.9000e+00]])\n"
     ]
    },
    {
     "name": "stderr",
     "output_type": "stream",
     "text": [
      "c:\\Users\\sozenosk\\AppData\\Local\\miniforge3\\Lib\\site-packages\\gpytorch\\likelihoods\\noise_models.py:150: NumericalWarning: Very small noise values detected. This will likely lead to numerical instabilities. Rounding small noise values up to 1e-06.\n",
      "  warnings.warn(\n"
     ]
    },
    {
     "name": "stdout",
     "output_type": "stream",
     "text": [
      "Iteration 13: Suggested parameters tensor([[4.3356e-01, 8.0000e+04, 2.2899e-01, 1.9000e+00]])\n"
     ]
    },
    {
     "name": "stderr",
     "output_type": "stream",
     "text": [
      "c:\\Users\\sozenosk\\AppData\\Local\\miniforge3\\Lib\\site-packages\\gpytorch\\likelihoods\\noise_models.py:150: NumericalWarning: Very small noise values detected. This will likely lead to numerical instabilities. Rounding small noise values up to 1e-06.\n",
      "  warnings.warn(\n"
     ]
    },
    {
     "name": "stdout",
     "output_type": "stream",
     "text": [
      "Iteration 14: Suggested parameters tensor([[4.2860e-01, 7.8671e+04, 1.8974e-01, 1.9000e+00]])\n"
     ]
    },
    {
     "name": "stderr",
     "output_type": "stream",
     "text": [
      "c:\\Users\\sozenosk\\AppData\\Local\\miniforge3\\Lib\\site-packages\\gpytorch\\likelihoods\\noise_models.py:150: NumericalWarning: Very small noise values detected. This will likely lead to numerical instabilities. Rounding small noise values up to 1e-06.\n",
      "  warnings.warn(\n"
     ]
    },
    {
     "name": "stdout",
     "output_type": "stream",
     "text": [
      "Iteration 15: Suggested parameters tensor([[4.2499e-01, 7.5408e+04, 1.6847e-01, 1.9000e+00]])\n"
     ]
    },
    {
     "name": "stderr",
     "output_type": "stream",
     "text": [
      "c:\\Users\\sozenosk\\AppData\\Local\\miniforge3\\Lib\\site-packages\\gpytorch\\likelihoods\\noise_models.py:150: NumericalWarning: Very small noise values detected. This will likely lead to numerical instabilities. Rounding small noise values up to 1e-06.\n",
      "  warnings.warn(\n"
     ]
    },
    {
     "name": "stdout",
     "output_type": "stream",
     "text": [
      "Iteration 16: Suggested parameters tensor([[4.2035e-01, 7.9362e+04, 1.4867e-01, 1.9000e+00]])\n"
     ]
    },
    {
     "name": "stderr",
     "output_type": "stream",
     "text": [
      "c:\\Users\\sozenosk\\AppData\\Local\\miniforge3\\Lib\\site-packages\\gpytorch\\likelihoods\\noise_models.py:150: NumericalWarning: Very small noise values detected. This will likely lead to numerical instabilities. Rounding small noise values up to 1e-06.\n",
      "  warnings.warn(\n"
     ]
    },
    {
     "name": "stdout",
     "output_type": "stream",
     "text": [
      "Iteration 17: Suggested parameters tensor([[4.1550e-01, 7.7029e+04, 1.2448e-01, 1.9000e+00]])\n"
     ]
    },
    {
     "name": "stderr",
     "output_type": "stream",
     "text": [
      "c:\\Users\\sozenosk\\AppData\\Local\\miniforge3\\Lib\\site-packages\\gpytorch\\likelihoods\\noise_models.py:150: NumericalWarning: Very small noise values detected. This will likely lead to numerical instabilities. Rounding small noise values up to 1e-06.\n",
      "  warnings.warn(\n"
     ]
    },
    {
     "name": "stdout",
     "output_type": "stream",
     "text": [
      "Iteration 18: Suggested parameters tensor([[4.1062e-01, 7.9996e+04, 1.1013e-01, 1.9000e+00]])\n"
     ]
    },
    {
     "name": "stderr",
     "output_type": "stream",
     "text": [
      "c:\\Users\\sozenosk\\AppData\\Local\\miniforge3\\Lib\\site-packages\\gpytorch\\likelihoods\\noise_models.py:150: NumericalWarning: Very small noise values detected. This will likely lead to numerical instabilities. Rounding small noise values up to 1e-06.\n",
      "  warnings.warn(\n"
     ]
    },
    {
     "name": "stdout",
     "output_type": "stream",
     "text": [
      "Iteration 19: Suggested parameters tensor([[4.1073e-01, 7.8054e+04, 1.1259e-01, 1.9000e+00]])\n"
     ]
    },
    {
     "name": "stderr",
     "output_type": "stream",
     "text": [
      "c:\\Users\\sozenosk\\AppData\\Local\\miniforge3\\Lib\\site-packages\\gpytorch\\likelihoods\\noise_models.py:150: NumericalWarning: Very small noise values detected. This will likely lead to numerical instabilities. Rounding small noise values up to 1e-06.\n",
      "  warnings.warn(\n"
     ]
    },
    {
     "name": "stdout",
     "output_type": "stream",
     "text": [
      "Iteration 20: Suggested parameters tensor([[4.2310e-01, 8.0000e+04, 1.5280e-01, 1.9000e+00]])\n"
     ]
    },
    {
     "name": "stderr",
     "output_type": "stream",
     "text": [
      "c:\\Users\\sozenosk\\AppData\\Local\\miniforge3\\Lib\\site-packages\\gpytorch\\likelihoods\\noise_models.py:150: NumericalWarning: Very small noise values detected. This will likely lead to numerical instabilities. Rounding small noise values up to 1e-06.\n",
      "  warnings.warn(\n"
     ]
    },
    {
     "name": "stdout",
     "output_type": "stream",
     "text": [
      "Iteration 21: Suggested parameters tensor([[4.3507e-01, 7.5562e+04, 2.3230e-01, 1.9000e+00]])\n"
     ]
    },
    {
     "name": "stderr",
     "output_type": "stream",
     "text": [
      "c:\\Users\\sozenosk\\AppData\\Local\\miniforge3\\Lib\\site-packages\\gpytorch\\likelihoods\\noise_models.py:150: NumericalWarning: Very small noise values detected. This will likely lead to numerical instabilities. Rounding small noise values up to 1e-06.\n",
      "  warnings.warn(\n"
     ]
    },
    {
     "name": "stdout",
     "output_type": "stream",
     "text": [
      "Iteration 22: Suggested parameters tensor([[4.3476e-01, 7.8078e+04, 2.2971e-01, 1.9000e+00]])\n"
     ]
    },
    {
     "name": "stderr",
     "output_type": "stream",
     "text": [
      "c:\\Users\\sozenosk\\AppData\\Local\\miniforge3\\Lib\\site-packages\\gpytorch\\likelihoods\\noise_models.py:150: NumericalWarning: Very small noise values detected. This will likely lead to numerical instabilities. Rounding small noise values up to 1e-06.\n",
      "  warnings.warn(\n"
     ]
    },
    {
     "name": "stdout",
     "output_type": "stream",
     "text": [
      "Iteration 23: Suggested parameters tensor([[4.3456e-01, 7.9808e+04, 2.2807e-01, 1.9000e+00]])\n"
     ]
    },
    {
     "name": "stderr",
     "output_type": "stream",
     "text": [
      "c:\\Users\\sozenosk\\AppData\\Local\\miniforge3\\Lib\\site-packages\\gpytorch\\likelihoods\\noise_models.py:150: NumericalWarning: Very small noise values detected. This will likely lead to numerical instabilities. Rounding small noise values up to 1e-06.\n",
      "  warnings.warn(\n"
     ]
    },
    {
     "name": "stdout",
     "output_type": "stream",
     "text": [
      "Iteration 24: Suggested parameters tensor([[4.3446e-01, 7.8100e+04, 2.2722e-01, 1.9000e+00]])\n"
     ]
    },
    {
     "name": "stderr",
     "output_type": "stream",
     "text": [
      "c:\\Users\\sozenosk\\AppData\\Local\\miniforge3\\Lib\\site-packages\\gpytorch\\likelihoods\\noise_models.py:150: NumericalWarning: Very small noise values detected. This will likely lead to numerical instabilities. Rounding small noise values up to 1e-06.\n",
      "  warnings.warn(\n"
     ]
    },
    {
     "name": "stdout",
     "output_type": "stream",
     "text": [
      "Iteration 25: Suggested parameters tensor([[4.3443e-01, 7.5575e+04, 2.2703e-01, 1.9000e+00]])\n"
     ]
    },
    {
     "name": "stderr",
     "output_type": "stream",
     "text": [
      "c:\\Users\\sozenosk\\AppData\\Local\\miniforge3\\Lib\\site-packages\\gpytorch\\likelihoods\\noise_models.py:150: NumericalWarning: Very small noise values detected. This will likely lead to numerical instabilities. Rounding small noise values up to 1e-06.\n",
      "  warnings.warn(\n"
     ]
    },
    {
     "name": "stdout",
     "output_type": "stream",
     "text": [
      "Iteration 26: Suggested parameters tensor([[4.3462e-01, 7.9274e+04, 2.2856e-01, 1.9000e+00]])\n"
     ]
    },
    {
     "name": "stderr",
     "output_type": "stream",
     "text": [
      "c:\\Users\\sozenosk\\AppData\\Local\\miniforge3\\Lib\\site-packages\\gpytorch\\likelihoods\\noise_models.py:150: NumericalWarning: Very small noise values detected. This will likely lead to numerical instabilities. Rounding small noise values up to 1e-06.\n",
      "  warnings.warn(\n"
     ]
    },
    {
     "name": "stdout",
     "output_type": "stream",
     "text": [
      "Iteration 27: Suggested parameters tensor([[4.3547e-01, 5.0898e+04, 2.3360e-01, 1.9000e+00]])\n"
     ]
    },
    {
     "name": "stderr",
     "output_type": "stream",
     "text": [
      "c:\\Users\\sozenosk\\AppData\\Local\\miniforge3\\Lib\\site-packages\\gpytorch\\likelihoods\\noise_models.py:150: NumericalWarning: Very small noise values detected. This will likely lead to numerical instabilities. Rounding small noise values up to 1e-06.\n",
      "  warnings.warn(\n"
     ]
    },
    {
     "name": "stdout",
     "output_type": "stream",
     "text": [
      "Iteration 28: Suggested parameters tensor([[4.3522e-01, 7.9606e+04, 2.3353e-01, 1.9000e+00]])\n"
     ]
    },
    {
     "name": "stderr",
     "output_type": "stream",
     "text": [
      "c:\\Users\\sozenosk\\AppData\\Local\\miniforge3\\Lib\\site-packages\\gpytorch\\likelihoods\\noise_models.py:150: NumericalWarning: Very small noise values detected. This will likely lead to numerical instabilities. Rounding small noise values up to 1e-06.\n",
      "  warnings.warn(\n"
     ]
    },
    {
     "name": "stdout",
     "output_type": "stream",
     "text": [
      "Iteration 29: Suggested parameters tensor([[4.3520e-01, 7.9446e+04, 2.3390e-01, 1.9000e+00]])\n"
     ]
    },
    {
     "name": "stderr",
     "output_type": "stream",
     "text": [
      "c:\\Users\\sozenosk\\AppData\\Local\\miniforge3\\Lib\\site-packages\\gpytorch\\likelihoods\\noise_models.py:150: NumericalWarning: Very small noise values detected. This will likely lead to numerical instabilities. Rounding small noise values up to 1e-06.\n",
      "  warnings.warn(\n"
     ]
    },
    {
     "name": "stdout",
     "output_type": "stream",
     "text": [
      "Iteration 30: Suggested parameters tensor([[4.3515e-01, 1.9227e+04, 2.3462e-01, 1.9000e+00]])\n",
      "\n",
      "✅ Best Parameters: tensor([4.2499e-01, 7.5408e+04, 1.6847e-01, 1.9000e+00])\n",
      "🎯 Best MSE: 2330.696332448991\n"
     ]
    }
   ],
   "source": [
    "import torch\n",
    "\n",
    "# === Define real parameter bounds (raw) ===\n",
    "real_bounds = torch.tensor([\n",
    "    [0.2, 10000.0, 0.005, 1.0],\n",
    "    [0.8, 80000.0, 1.0, 1.9]\n",
    "], dtype=torch.float64)\n",
    "\n",
    "# === Define normalized bounds for acquisition optimizer ===\n",
    "normalized_bounds = torch.stack([torch.zeros(4), torch.ones(4)], dim=0)\n",
    "\n",
    "# === Unnormalize helper function ===\n",
    "def unnormalize(x_normalized, bounds):\n",
    "    lower, upper = bounds[0], bounds[1]\n",
    "    return lower + (upper - lower) * x_normalized\n",
    "\n",
    "# === Optimization Loop ===\n",
    "from botorch.models import SingleTaskGP\n",
    "from botorch.models.transforms import Normalize, Standardize\n",
    "from botorch.acquisition.analytic import LogExpectedImprovement\n",
    "from botorch.optim import optimize_acqf\n",
    "from gpytorch.mlls import ExactMarginalLogLikelihood\n",
    "\n",
    "import subprocess\n",
    "import xml.etree.ElementTree as ET\n",
    "import time\n",
    "import numpy as np\n",
    "\n",
    "guess_data_all_optim = {}\n",
    "iterations = []\n",
    "num_iteration = 30\n",
    "\n",
    "for i in range(num_iteration):\n",
    "    # === Build GP Model ===\n",
    "    outcome_transform = Standardize(m=1)\n",
    "    input_transform = Normalize(d=4)\n",
    "\n",
    "    model = SingleTaskGP(\n",
    "        train_x, train_y, train_Yvar=train_yvar,\n",
    "        outcome_transform=outcome_transform,\n",
    "        input_transform=input_transform\n",
    "    )\n",
    "    mll = ExactMarginalLogLikelihood(model.likelihood, model)\n",
    "    fit_gpytorch_mll(mll)\n",
    "    model.eval()\n",
    "\n",
    "    # === Acquisition Function ===\n",
    "    acq_func = LogExpectedImprovement(model, best_f=train_y.max())\n",
    "\n",
    "    # === Optimize Acquisition in Normalized Space ===\n",
    "    candidate_normalized, _ = optimize_acqf(\n",
    "        acq_function=acq_func,\n",
    "        bounds=normalized_bounds,\n",
    "        q=1,\n",
    "        num_restarts=50,\n",
    "        raw_samples=2000,\n",
    "    )\n",
    "\n",
    "    # === Unnormalize to real-world values for simulation ===\n",
    "    candidate_unnormalized = unnormalize(candidate_normalized, real_bounds)\n",
    "\n",
    "    print(f\"Iteration {i+1}: Suggested parameters\", candidate_unnormalized)\n",
    "    iterations.append(candidate_unnormalized)\n",
    "\n",
    "    # === Extract values ===\n",
    "    n = candidate_unnormalized[0, 0].item()\n",
    "    tau_star = candidate_unnormalized[0, 1].item()\n",
    "    tau_w = candidate_unnormalized[0, 2].item()\n",
    "    m = candidate_unnormalized[0, 3].item()\n",
    "\n",
    "    # === Send values to Moldflow ===\n",
    "    study_name = f\"optimization_{i+1}\"\n",
    "    Project = Synergy.Project\n",
    "\n",
    "    PropEd = Synergy.PropertyEditor\n",
    "    Prop = PropEd.FindProperty(10090, 1)\n",
    "    Prop.FieldDescription(53030, f\"{n}, {tau_star}, 1.916e+6, 0.004, 0, 0, 0.305\")\n",
    "    PropEd.CommitChanges(\"Process Conditions\")\n",
    "\n",
    "    PropEd = Synergy.PropertyEditor\n",
    "    Prop = PropEd.FindProperty(10090, 1)\n",
    "    DVec = Synergy.CreateDoubleArray\n",
    "    DVec.AddDouble(tau_w)\n",
    "    DVec.AddDouble(m)\n",
    "    DVec.AddDouble(1e-08)\n",
    "    DVec.AddDouble(0)\n",
    "    DVec.AddDouble(0)\n",
    "    Prop.FieldValues(51182, DVec)\n",
    "    PropEd.CommitChanges(\"Process Conditions\")\n",
    "\n",
    "    StudyDoc = Synergy.StudyDoc\n",
    "    StudyDoc.SaveAs(study_name)\n",
    "\n",
    "    # === Run simulation ===\n",
    "    p = subprocess.Popen(\n",
    "        [os.path.join(moldflow, \"runstudy.exe\"), f\"G:\\\\Oskay Sözen\\\\Parameter\\\\optimization_{i+1}.sdy\"],\n",
    "        stdout=subprocess.PIPE,\n",
    "        stderr=subprocess.STDOUT,\n",
    "    )\n",
    "    (output, err) = p.communicate()\n",
    "    time.sleep(2)\n",
    "\n",
    "    Synergy.OpenProject(\"G:\\\\Oskay Sözen\\\\Parameter\\\\Parameter.mpi\")\n",
    "    Project = Synergy.Project\n",
    "    Project.OpenItemByName(f\"optimization_{i+1}\", \"Study\")\n",
    "\n",
    "    # === Export Result to XML ===\n",
    "    PlotMgr = Synergy.PlotManager\n",
    "    time.sleep(2)\n",
    "    Plot = PlotMgr.FindPlotByName2(\"Press force:XY Plot\", \"Press force\")\n",
    "    Pid = Plot.GetDataID\n",
    "    PlotMgr = None\n",
    "    PlotMgr = Synergy.PlotManager\n",
    "    time.sleep(2)\n",
    "    PlotMgr.SaveResultDataInXML2(Pid, f\"H:\\\\XMLFiles\\\\optimization_{i + 1}.xml\", \"Metric\")\n",
    "\n",
    "    # === Save log output ===\n",
    "    with open(f\"H:\\\\Log_Files\\\\optimization_{i+1}.log\", \"w\") as file:\n",
    "        file.write(output.decode(\"windows-1252\").strip())\n",
    "\n",
    "    # === Parse XML ===\n",
    "    guess_tree = ET.parse(f\"H:\\\\XMLFiles\\\\optimization_{i+1}.xml\")\n",
    "    guess_root = guess_tree.getroot()\n",
    "    guess_data = []\n",
    "\n",
    "    count = 0\n",
    "    for time_block, dept_block in zip(guess_root.findall('.//Block//IndpVar'), guess_root.findall('.//Block')):\n",
    "        if count >= 30:\n",
    "            break\n",
    "        time_value = time_block.attrib.get('Value')\n",
    "        dept_value = dept_block.find('DeptValues').text.strip()\n",
    "        guess_data.append((time_value, dept_value))\n",
    "        count += 1\n",
    "\n",
    "    if len(guess_data) < 30:\n",
    "        print(f\"Warning: File {i+1} has incomplete or corrupted data (only {len(guess_data)} entries). Skipping.\")\n",
    "        continue\n",
    "\n",
    "    guess_data_all_optim[f\"guess_data_{i+1}\"] = guess_data\n",
    "\n",
    "    # === Convert and Evaluate ===\n",
    "    guess_data_array = np.array([(float(x), float(y)) for x, y in guess_data])\n",
    "    guess_time = guess_data_array[:, 0]\n",
    "    guess_disp = guess_data_array[:, 1] * 9.80665\n",
    "\n",
    "    mse = calculate_area_between_curves(real_time, real_disp, guess_time, guess_disp)\n",
    "    area_data.append(mse)\n",
    "    valid_xml.append(len(area_data) - 1)\n",
    "\n",
    "    # === Add to training data ===\n",
    "    train_x = torch.cat([train_x, candidate_unnormalized], dim=0)\n",
    "    train_y = torch.cat([train_y, -torch.tensor([[mse]], dtype=torch.float64)], dim=0)\n",
    "    train_yvar = torch.full_like(train_y, 1e-6)\n",
    "\n",
    "    # === Check convergence ===\n",
    "    if abs(train_y.max().item()) < 1e-2:\n",
    "        print(f\"Converged after {i+1} iterations.\")\n",
    "        break\n",
    "\n",
    "# === Final result ===\n",
    "best_params = train_x[train_y.argmax()]\n",
    "best_mse = -train_y.max().item()\n",
    "print(f\"\\n✅ Best Parameters: {best_params}\")\n",
    "print(f\"🎯 Best MSE: {best_mse}\")\n"
   ]
  },
  {
   "cell_type": "code",
   "execution_count": 12,
   "metadata": {},
   "outputs": [
    {
     "data": {
      "image/png": "[encoded data removed]",
      "text/plain": [
       "<Figure size 640x480 with 1 Axes>"
      ]
     },
     "metadata": {},
     "output_type": "display_data"
    }
   ],
   "source": [
    "\n",
    "num_curves = len(guess_data_all_optim)\n",
    "colormap = plt.get_cmap('viridis', num_curves)  \n",
    "plt.plot(common_time, guess_force_resampled, 'b-', label='Real Curve')\n",
    "for i, (key, guess_data) in enumerate(guess_data_all_optim.items()):\n",
    "    if isinstance(guess_data[0], (list, tuple)) and len(guess_data[0]) == 2:\n",
    "        guess_data_array = np.array([(float(x), float(y)) for x, y in guess_data])\n",
    "        guess_time = guess_data_array[:, 0]\n",
    "        guess_disp = guess_data_array[:, 1]\n",
    "\n",
    "        guess_disp_resampled = np.interp(common_time, guess_time, guess_disp)\n",
    "\n",
    "        color = colormap(i) \n",
    "        plt.plot(common_time, guess_disp_resampled, color=color, label=f'Guess_{i+1}')\n",
    "\n",
    "# Finalize plot\n",
    "plt.legend(loc='best')\n",
    "plt.xlabel('Time (s)')\n",
    "plt.ylabel('Force')\n",
    "plt.title('Force vs Time (Optimized Curves)')\n",
    "plt.grid(True)\n",
    "plt.legend(loc='upper left', bbox_to_anchor=(1.05, 1), borderaxespad=0.)\n",
    "plt.tight_layout()  \n",
    "plt.show()"
   ]
  }
 ],
 "metadata": {
  "kernelspec": {
   "display_name": "base",
   "language": "python",
   "name": "python3"
  },
  "language_info": {
   "codemirror_mode": {
    "name": "ipython",
    "version": 3
   },
   "file_extension": ".py",
   "mimetype": "text/x-python",
   "name": "python",
   "nbconvert_exporter": "python",
   "pygments_lexer": "ipython3",
   "version": "3.12.6"
  }
 },
 "nbformat": 4,
 "nbformat_minor": 2
}
